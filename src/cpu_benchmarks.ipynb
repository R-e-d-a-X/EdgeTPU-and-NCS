{
 "cells": [
  {
   "cell_type": "code",
   "execution_count": 16,
   "metadata": {},
   "outputs": [],
   "source": [
    "import tensorflow as tf\n",
    "import numpy as np\n",
    "import matplotlib.pyplot as plt\n",
    "from PIL import Image\n",
    "import time"
   ]
  },
  {
   "cell_type": "code",
   "execution_count": 17,
   "metadata": {},
   "outputs": [],
   "source": [
    "MODEL_PATH = './saved_models/inception/inception_v3/inception_v3_299_quant.tflite'\n",
    "COUNT = 101 \n",
    "HEIGHT = WIDTH = 224"
   ]
  },
  {
   "cell_type": "code",
   "execution_count": 18,
   "metadata": {},
   "outputs": [
    {
     "name": "stderr",
     "output_type": "stream",
     "text": [
      "/tmp/ipykernel_5862/2118267439.py:5: DeprecationWarning: ANTIALIAS is deprecated and will be removed in Pillow 10 (2023-07-01). Use Resampling.LANCZOS instead.\n",
      "  img = img.resize((HEIGHT, WIDTH), Image.ANTIALIAS)\n"
     ]
    }
   ],
   "source": [
    "interpreter = tf.lite.Interpreter(MODEL_PATH)\n",
    "interpreter.allocate_tensors()\n",
    "\n",
    "img = Image.open('./saved_models/parrot.jpg')\n",
    "img = img.resize((HEIGHT, WIDTH), Image.ANTIALIAS)"
   ]
  },
  {
   "cell_type": "code",
   "execution_count": 19,
   "metadata": {},
   "outputs": [
    {
     "data": {
      "text/plain": [
       "7"
      ]
     },
     "execution_count": 19,
     "metadata": {},
     "output_type": "execute_result"
    }
   ],
   "source": [
    "f = open('results_cpu_inception_v2.csv', 'w')\n",
    "f.write(\"TimeMS\\n\")"
   ]
  },
  {
   "cell_type": "code",
   "execution_count": 20,
   "metadata": {},
   "outputs": [],
   "source": [
    "#img = tf.cast(np.array(img), dtype=tf.float32)"
   ]
  },
  {
   "cell_type": "code",
   "execution_count": 21,
   "metadata": {},
   "outputs": [],
   "source": [
    "output = interpreter.get_output_details()[0]  \n",
    "input = interpreter.get_input_details()[0]  \n",
    "    \n",
    "img = np.array(img).reshape(1, HEIGHT, WIDTH, 3)\n",
    "interpreter.set_tensor(input['index'], img)"
   ]
  },
  {
   "cell_type": "code",
   "execution_count": 22,
   "metadata": {},
   "outputs": [
    {
     "name": "stdout",
     "output_type": "stream",
     "text": [
      "Time: 569.79ms\n",
      "Time: 570.01ms\n",
      "Time: 566.41ms\n",
      "Time: 539.04ms\n",
      "Time: 534.29ms\n",
      "Time: 535.82ms\n",
      "Time: 534.44ms\n",
      "Time: 531.38ms\n",
      "Time: 530.60ms\n",
      "Time: 530.64ms\n",
      "Time: 529.88ms\n",
      "Time: 539.36ms\n",
      "Time: 536.99ms\n",
      "Time: 532.34ms\n",
      "Time: 531.25ms\n",
      "Time: 531.72ms\n",
      "Time: 528.85ms\n",
      "Time: 529.48ms\n",
      "Time: 529.95ms\n",
      "Time: 528.71ms\n",
      "Time: 529.21ms\n",
      "Time: 528.97ms\n",
      "Time: 531.59ms\n",
      "Time: 529.64ms\n",
      "Time: 528.54ms\n",
      "Time: 529.17ms\n",
      "Time: 528.46ms\n",
      "Time: 529.67ms\n",
      "Time: 529.14ms\n",
      "Time: 533.22ms\n",
      "Time: 532.77ms\n",
      "Time: 539.44ms\n",
      "Time: 541.09ms\n",
      "Time: 539.55ms\n",
      "Time: 541.76ms\n",
      "Time: 540.54ms\n",
      "Time: 546.03ms\n",
      "Time: 540.37ms\n",
      "Time: 537.19ms\n",
      "Time: 539.06ms\n",
      "Time: 536.12ms\n",
      "Time: 530.20ms\n",
      "Time: 528.59ms\n",
      "Time: 528.82ms\n",
      "Time: 528.29ms\n",
      "Time: 529.40ms\n",
      "Time: 529.12ms\n",
      "Time: 528.96ms\n",
      "Time: 529.91ms\n",
      "Time: 528.82ms\n",
      "Time: 529.59ms\n",
      "Time: 538.96ms\n",
      "Time: 537.76ms\n",
      "Time: 535.80ms\n",
      "Time: 538.44ms\n",
      "Time: 539.79ms\n",
      "Time: 541.07ms\n",
      "Time: 545.87ms\n",
      "Time: 555.19ms\n",
      "Time: 531.48ms\n",
      "Time: 542.96ms\n",
      "Time: 538.82ms\n",
      "Time: 539.07ms\n",
      "Time: 532.36ms\n",
      "Time: 547.55ms\n",
      "Time: 539.29ms\n",
      "Time: 545.16ms\n",
      "Time: 560.20ms\n",
      "Time: 567.08ms\n",
      "Time: 535.16ms\n",
      "Time: 531.66ms\n",
      "Time: 530.24ms\n",
      "Time: 537.21ms\n",
      "Time: 553.62ms\n",
      "Time: 555.22ms\n",
      "Time: 546.08ms\n",
      "Time: 539.29ms\n",
      "Time: 574.26ms\n",
      "Time: 534.17ms\n",
      "Time: 536.99ms\n",
      "Time: 557.97ms\n",
      "Time: 523.35ms\n",
      "Time: 524.96ms\n",
      "Time: 523.44ms\n",
      "Time: 522.84ms\n",
      "Time: 531.98ms\n",
      "Time: 523.38ms\n",
      "Time: 518.36ms\n",
      "Time: 518.15ms\n",
      "Time: 519.27ms\n",
      "Time: 516.08ms\n",
      "Time: 517.66ms\n",
      "Time: 520.41ms\n",
      "Time: 534.20ms\n",
      "Time: 525.20ms\n",
      "Time: 518.87ms\n",
      "Time: 547.86ms\n",
      "Time: 540.81ms\n",
      "Time: 537.03ms\n",
      "Time: 542.95ms\n",
      "Time: 530.66ms\n"
     ]
    }
   ],
   "source": [
    "for _ in range(COUNT):\n",
    "    with tf.device('/CPU:0'):\n",
    "        start = time.perf_counter()\n",
    "        interpreter.invoke()\n",
    "        inf_time_s = time.perf_counter() - start\n",
    "        inf_time_ms = 1000 * inf_time_s\n",
    "        f.write(f'{inf_time_ms:.2f}\\n')\n",
    "        res = interpreter.get_tensor(output['index'])\n",
    "        print(f'Time: {inf_time_ms:.2f}ms')\n",
    "\n",
    "f.close()\n"
   ]
  },
  {
   "cell_type": "code",
   "execution_count": 23,
   "metadata": {},
   "outputs": [
    {
     "data": {
      "text/plain": [
       "\"\\nwith tf.device('/GPU:0'):\\n    start = time.perf_counter()\\n    interpreter.invoke()\\n    inf_time_s = time.perf_counter() - start\\n    inf_time_ms = 1000 * inf_time_s\\n    res = interpreter.get_tensor(output['index'])\\n\\nprint(f'Inference Time: {inf_time_ms:.2f}ms')\\n\""
      ]
     },
     "execution_count": 23,
     "metadata": {},
     "output_type": "execute_result"
    }
   ],
   "source": [
    "'''\n",
    "with tf.device('/GPU:0'):\n",
    "    start = time.perf_counter()\n",
    "    interpreter.invoke()\n",
    "    inf_time_s = time.perf_counter() - start\n",
    "    inf_time_ms = 1000 * inf_time_s\n",
    "    res = interpreter.get_tensor(output['index'])\n",
    "\n",
    "print(f'Inference Time: {inf_time_ms:.2f}ms')\n",
    "'''"
   ]
  },
  {
   "attachments": {},
   "cell_type": "markdown",
   "metadata": {},
   "source": [
    "## CPU Benchmark\n",
    "Inferencetime for quantized model: ~4400ms <br>\n",
    "Inferencetime for float model    : ~110ms"
   ]
  }
 ],
 "metadata": {
  "kernelspec": {
   "display_name": "BA",
   "language": "python",
   "name": "python3"
  },
  "language_info": {
   "codemirror_mode": {
    "name": "ipython",
    "version": 3
   },
   "file_extension": ".py",
   "mimetype": "text/x-python",
   "name": "python",
   "nbconvert_exporter": "python",
   "pygments_lexer": "ipython3",
   "version": "3.8.16 (default, Jan 17 2023, 23:13:24) \n[GCC 11.2.0]"
  },
  "orig_nbformat": 4,
  "vscode": {
   "interpreter": {
    "hash": "1a3874d0328dae854489c702580b238cd5016a1a716ce25211943d1c5a2e363f"
   }
  }
 },
 "nbformat": 4,
 "nbformat_minor": 2
}
