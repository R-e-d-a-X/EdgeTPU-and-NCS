{
 "cells": [
  {
   "cell_type": "code",
   "execution_count": 47,
   "metadata": {},
   "outputs": [],
   "source": [
    "import tensorflow as tf\n",
    "import numpy as np\n",
    "import matplotlib.pyplot as plt\n",
    "from PIL import Image\n",
    "import time"
   ]
  },
  {
   "cell_type": "code",
   "execution_count": 48,
   "metadata": {},
   "outputs": [],
   "source": [
    "MODEL_PATH = '../saved_models/resnet-50/tfhub_tf2_resnet_50_imagenet_ptq.tflite'\n",
    "COUNT = 101 \n",
    "HEIGHT = WIDTH = 224"
   ]
  },
  {
   "cell_type": "code",
   "execution_count": 49,
   "metadata": {},
   "outputs": [
    {
     "name": "stderr",
     "output_type": "stream",
     "text": [
      "/tmp/ipykernel_7246/3627132547.py:5: DeprecationWarning: ANTIALIAS is deprecated and will be removed in Pillow 10 (2023-07-01). Use Resampling.LANCZOS instead.\n",
      "  img = img.resize((HEIGHT, WIDTH), Image.ANTIALIAS)\n"
     ]
    }
   ],
   "source": [
    "interpreter = tf.lite.Interpreter(MODEL_PATH)\n",
    "interpreter.allocate_tensors()\n",
    "\n",
    "img = Image.open('../saved_models/parrot.jpg')\n",
    "img = img.resize((HEIGHT, WIDTH), Image.ANTIALIAS)"
   ]
  },
  {
   "cell_type": "code",
   "execution_count": 50,
   "metadata": {},
   "outputs": [
    {
     "data": {
      "text/plain": [
       "7"
      ]
     },
     "execution_count": 50,
     "metadata": {},
     "output_type": "execute_result"
    }
   ],
   "source": [
    "f = open('../benchmarks/resnet-50/results_cpu_resnet-50.csv', 'w')\n",
    "f.write(\"TimeMS\\n\")"
   ]
  },
  {
   "cell_type": "code",
   "execution_count": 51,
   "metadata": {},
   "outputs": [],
   "source": [
    "#img = tf.cast(np.array(img), dtype=tf.float32)"
   ]
  },
  {
   "cell_type": "code",
   "execution_count": 52,
   "metadata": {},
   "outputs": [],
   "source": [
    "output = interpreter.get_output_details()[0]  \n",
    "input = interpreter.get_input_details()[0]  \n",
    "    \n",
    "img = np.array(img).reshape(1, HEIGHT, WIDTH, 3)\n",
    "interpreter.set_tensor(input['index'], img)"
   ]
  },
  {
   "cell_type": "code",
   "execution_count": 53,
   "metadata": {},
   "outputs": [
    {
     "name": "stdout",
     "output_type": "stream",
     "text": [
      "Time: 7798.08ms\n",
      "Time: 7687.83ms\n",
      "Time: 7565.84ms\n",
      "Time: 7549.47ms\n",
      "Time: 7601.83ms\n",
      "Time: 7513.90ms\n",
      "Time: 7516.37ms\n",
      "Time: 7536.23ms\n",
      "Time: 7578.10ms\n",
      "Time: 7611.87ms\n",
      "Time: 7620.00ms\n",
      "Time: 7751.46ms\n",
      "Time: 7584.35ms\n",
      "Time: 7588.08ms\n",
      "Time: 7831.24ms\n",
      "Time: 7640.67ms\n",
      "Time: 7549.41ms\n",
      "Time: 7542.88ms\n",
      "Time: 7449.55ms\n",
      "Time: 7579.29ms\n",
      "Time: 7677.44ms\n",
      "Time: 7680.89ms\n",
      "Time: 7626.53ms\n",
      "Time: 7591.86ms\n",
      "Time: 7596.12ms\n",
      "Time: 7572.88ms\n",
      "Time: 7497.77ms\n",
      "Time: 7520.14ms\n",
      "Time: 7480.40ms\n",
      "Time: 7503.14ms\n",
      "Time: 7502.87ms\n",
      "Time: 7735.53ms\n",
      "Time: 7525.11ms\n",
      "Time: 7580.05ms\n",
      "Time: 7496.34ms\n",
      "Time: 7537.50ms\n",
      "Time: 7569.28ms\n",
      "Time: 7667.79ms\n",
      "Time: 7563.40ms\n",
      "Time: 7542.57ms\n",
      "Time: 7492.53ms\n",
      "Time: 7585.63ms\n",
      "Time: 7597.79ms\n",
      "Time: 7498.07ms\n",
      "Time: 7488.37ms\n",
      "Time: 7500.46ms\n",
      "Time: 7484.84ms\n",
      "Time: 7502.31ms\n",
      "Time: 7512.11ms\n",
      "Time: 7502.88ms\n",
      "Time: 7512.60ms\n",
      "Time: 7470.73ms\n",
      "Time: 7472.32ms\n",
      "Time: 7477.91ms\n",
      "Time: 7474.80ms\n",
      "Time: 7481.49ms\n",
      "Time: 7497.13ms\n",
      "Time: 7498.23ms\n",
      "Time: 7503.57ms\n",
      "Time: 7478.87ms\n",
      "Time: 7483.05ms\n",
      "Time: 7478.38ms\n",
      "Time: 7483.58ms\n",
      "Time: 7479.29ms\n",
      "Time: 7476.15ms\n",
      "Time: 7483.72ms\n",
      "Time: 7490.53ms\n",
      "Time: 7488.21ms\n",
      "Time: 7483.12ms\n",
      "Time: 7489.36ms\n",
      "Time: 7488.57ms\n",
      "Time: 7482.39ms\n",
      "Time: 7472.94ms\n",
      "Time: 7481.71ms\n",
      "Time: 7481.05ms\n",
      "Time: 7481.64ms\n",
      "Time: 7618.77ms\n",
      "Time: 7505.17ms\n",
      "Time: 7523.28ms\n",
      "Time: 7517.60ms\n",
      "Time: 7632.05ms\n",
      "Time: 7624.22ms\n",
      "Time: 7523.27ms\n",
      "Time: 7513.46ms\n",
      "Time: 7546.03ms\n",
      "Time: 7577.55ms\n",
      "Time: 7563.44ms\n",
      "Time: 7551.59ms\n",
      "Time: 7569.05ms\n",
      "Time: 7573.09ms\n",
      "Time: 7707.33ms\n",
      "Time: 7549.14ms\n",
      "Time: 7545.08ms\n",
      "Time: 7592.09ms\n",
      "Time: 7580.52ms\n",
      "Time: 7541.14ms\n",
      "Time: 7537.35ms\n",
      "Time: 7577.58ms\n",
      "Time: 7654.26ms\n",
      "Time: 7630.03ms\n",
      "Time: 7517.50ms\n"
     ]
    }
   ],
   "source": [
    "for _ in range(COUNT):\n",
    "    with tf.device('/CPU:0'):\n",
    "        start = time.perf_counter()\n",
    "        interpreter.invoke()\n",
    "        inf_time_s = time.perf_counter() - start\n",
    "        inf_time_ms = 1000 * inf_time_s\n",
    "        f.write(f'{inf_time_ms:.2f}\\n')\n",
    "        res = interpreter.get_tensor(output['index'])\n",
    "        print(f'Time: {inf_time_ms:.2f}ms')\n",
    "\n",
    "f.close()\n"
   ]
  },
  {
   "cell_type": "code",
   "execution_count": 54,
   "metadata": {},
   "outputs": [
    {
     "data": {
      "text/plain": [
       "\"\\nwith tf.device('/GPU:0'):\\n    start = time.perf_counter()\\n    interpreter.invoke()\\n    inf_time_s = time.perf_counter() - start\\n    inf_time_ms = 1000 * inf_time_s\\n    res = interpreter.get_tensor(output['index'])\\n\\nprint(f'Inference Time: {inf_time_ms:.2f}ms')\\n\""
      ]
     },
     "execution_count": 54,
     "metadata": {},
     "output_type": "execute_result"
    }
   ],
   "source": [
    "'''\n",
    "with tf.device('/GPU:0'):\n",
    "    start = time.perf_counter()\n",
    "    interpreter.invoke()\n",
    "    inf_time_s = time.perf_counter() - start\n",
    "    inf_time_ms = 1000 * inf_time_s\n",
    "    res = interpreter.get_tensor(output['index'])\n",
    "\n",
    "print(f'Inference Time: {inf_time_ms:.2f}ms')\n",
    "'''"
   ]
  },
  {
   "attachments": {},
   "cell_type": "markdown",
   "metadata": {},
   "source": [
    "## CPU Benchmark\n",
    "Inferencetime for quantized model: ~4400ms <br>\n",
    "Inferencetime for float model    : ~110ms"
   ]
  }
 ],
 "metadata": {
  "kernelspec": {
   "display_name": "BA",
   "language": "python",
   "name": "python3"
  },
  "language_info": {
   "codemirror_mode": {
    "name": "ipython",
    "version": 3
   },
   "file_extension": ".py",
   "mimetype": "text/x-python",
   "name": "python",
   "nbconvert_exporter": "python",
   "pygments_lexer": "ipython3",
   "version": "3.8.16"
  },
  "orig_nbformat": 4,
  "vscode": {
   "interpreter": {
    "hash": "1a3874d0328dae854489c702580b238cd5016a1a716ce25211943d1c5a2e363f"
   }
  }
 },
 "nbformat": 4,
 "nbformat_minor": 2
}
