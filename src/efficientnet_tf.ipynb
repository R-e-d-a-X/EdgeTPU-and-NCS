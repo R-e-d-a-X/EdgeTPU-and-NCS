{
 "cells": [
  {
   "cell_type": "code",
   "execution_count": 22,
   "metadata": {},
   "outputs": [],
   "source": [
    "import tensorflow as tf\n",
    "import numpy as np\n",
    "import matplotlib.pyplot as plt\n",
    "from tensorflow.keras.applications.efficientnet import preprocess_input, decode_predictions"
   ]
  },
  {
   "cell_type": "code",
   "execution_count": 10,
   "metadata": {},
   "outputs": [],
   "source": [
    "model = tf.keras.applications.EfficientNetB0()\n",
    "IMG_SIZE = 224"
   ]
  },
  {
   "cell_type": "code",
   "execution_count": 23,
   "metadata": {},
   "outputs": [],
   "source": [
    "img_path = '../test_data/parrot.jpg'\n",
    "img = tf.keras.preprocessing.image.load_img(img_path, target_size=(IMG_SIZE, IMG_SIZE))\n",
    "x = tf.keras.preprocessing.image.img_to_array(img)\n",
    "x = np.expand_dims(x, axis=0)\n",
    "x = preprocess_input(x)"
   ]
  },
  {
   "cell_type": "code",
   "execution_count": 34,
   "metadata": {},
   "outputs": [
    {
     "name": "stdout",
     "output_type": "stream",
     "text": [
      "1/1 [==============================] - 3s 3s/step\n",
      "Predicted [('n01818515', 'macaw', 0.9251925), ('n01820546', 'lorikeet', 0.008034662), ('n01828970', 'bee_eater', 0.004366338)]\n"
     ]
    }
   ],
   "source": [
    "preds = model.predict(x)\n",
    "\n",
    "print(f'Predicted {decode_predictions(preds, top=3)[0]}')"
   ]
  },
  {
   "attachments": {},
   "cell_type": "markdown",
   "metadata": {},
   "source": [
    "# TODO workflow:\n",
    "    -model in ein eigens Modell einbinden\n",
    "    -zu tflite convertieren\n",
    "    -quantisieren\n",
    "    -mit edgetpu-compiler compilieren"
   ]
  }
 ],
 "metadata": {
  "kernelspec": {
   "display_name": "Bachelorarbeit",
   "language": "python",
   "name": "python3"
  },
  "language_info": {
   "codemirror_mode": {
    "name": "ipython",
    "version": 3
   },
   "file_extension": ".py",
   "mimetype": "text/x-python",
   "name": "python",
   "nbconvert_exporter": "python",
   "pygments_lexer": "ipython3",
   "version": "3.8.15 (default, Nov 24 2022, 15:19:38) \n[GCC 11.2.0]"
  },
  "orig_nbformat": 4,
  "vscode": {
   "interpreter": {
    "hash": "dcf7a5713a516aa2d3421acea07eb3b3e608abd40c4052e069e1a6582ee3f7b1"
   }
  }
 },
 "nbformat": 4,
 "nbformat_minor": 2
}
