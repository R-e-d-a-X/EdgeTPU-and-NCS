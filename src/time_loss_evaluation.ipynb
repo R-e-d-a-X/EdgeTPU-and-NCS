{
 "cells": [
  {
   "cell_type": "code",
   "execution_count": 28,
   "metadata": {},
   "outputs": [],
   "source": [
    "import pandas as pd\n",
    "import numpy as np\n",
    "import matplotlib.pyplot as plt  "
   ]
  },
  {
   "cell_type": "code",
   "execution_count": 38,
   "metadata": {},
   "outputs": [],
   "source": [
    "results_cpu = pd.read_csv('../benchmarks/random_forest/ms/results11_cpu.csv')[1:]\n",
    "results_tpu = pd.read_csv('../benchmarks/random_forest/ms/results11_edgetpu.csv')[1:]\n",
    "\n",
    "results_less_tpu_if = pd.read_csv('../benchmarks/random_forest/ms/results11_less_tpu.csv')[1:]\n",
    "\n",
    "results_1opp = pd.read_csv('../benchmarks/random_forest/ms/results_1opp.csv')[1:]\n",
    "results_2opp = pd.read_csv('../benchmarks/random_forest/ms/results_2opp.csv')[1:]\n",
    "results_3opp = pd.read_csv('../benchmarks/random_forest/ms/results_3opp.csv')[1:]\n",
    "results_4opp = pd.read_csv('../benchmarks/random_forest/ms/results_4opp.csv')[1:]\n",
    "results_attr = pd.read_csv('../benchmarks/random_forest/ms/results_attr.csv')[1:]\n",
    "\n",
    "results_300 = pd.read_csv('../benchmarks/random_forest/ms/results_300.csv')[1:]\n",
    "results_300_cpu = pd.read_csv('../benchmarks/random_forest/ms/results_300_cpu.csv')[1:]\n",
    "\n",
    "results_1k = pd.read_csv('../benchmarks/random_forest/ms/results_1k.csv')[1:]\n",
    "results_1k_cpu = pd.read_csv('../benchmarks/random_forest/ms/results_1k_cpu.csv')[1:]\n",
    "\n",
    "results_full_300 = pd.read_csv('../benchmarks/random_forest/ms/results_full_300.csv')[1:]\n",
    "results_full_300_cpu = pd.read_csv('../benchmarks/random_forest/ms/results_full_300_cpu.csv')[1:]"
   ]
  },
  {
   "attachments": {},
   "cell_type": "markdown",
   "metadata": {},
   "source": [
    "### MS benchmarks"
   ]
  },
  {
   "cell_type": "code",
   "execution_count": 39,
   "metadata": {},
   "outputs": [],
   "source": [
    "mean_cpu = results_cpu['TimeMS'].mean()\n",
    "mean_tpu = results_tpu['TimeMS'].mean()\n",
    "mean_less_tpu_if = results_less_tpu_if['TimeMS'].mean()\n",
    "mean_1opp = results_1opp['TimeMS'].mean()\n",
    "mean_2opp = results_2opp['TimeMS'].mean()\n",
    "mean_3opp = results_3opp['TimeMS'].mean()\n",
    "mean_4opp = results_4opp['TimeMS'].mean()\n",
    "mean_attr = results_attr['TimeMS'].mean()\n",
    "mean_300 = results_300['TimeMS'].mean()\n",
    "mean_300_cpu = results_300_cpu['TimeMS'].mean()\n",
    "mean_1k = results_1k['TimeMS'].mean()\n",
    "mean_1k_cpu = results_1k_cpu['TimeMS'].mean()\n",
    "mean_full_300 = results_full_300['TimeMS'].mean()\n",
    "mean_full_300_cpu = results_full_300_cpu['TimeMS'].mean()\n",
    "\n",
    "\n",
    "min_cpu = results_cpu['TimeMS'].min()\n",
    "min_tpu = results_tpu['TimeMS'].min()\n",
    "min_less_tpu_if = results_less_tpu_if['TimeMS'].min()\n",
    "min_1opp = results_1opp['TimeMS'].min()\n",
    "min_2opp = results_2opp['TimeMS'].min()\n",
    "min_3opp = results_3opp['TimeMS'].min()\n",
    "min_4opp = results_4opp['TimeMS'].min()\n",
    "min_attr = results_attr['TimeMS'].min()\n",
    "min_300 = results_300['TimeMS'].min()\n",
    "min_300_cpu = results_300_cpu['TimeMS'].min()\n",
    "min_1k = results_1k['TimeMS'].min()\n",
    "min_1k_cpu = results_1k_cpu['TimeMS'].min()\n",
    "min_full_300 = results_full_300['TimeMS'].min()\n",
    "min_full_300_cpu = results_full_300_cpu['TimeMS'].min()\n",
    "\n",
    "max_cpu = results_cpu['TimeMS'].max()\n",
    "max_tpu = results_tpu['TimeMS'].max()\n",
    "max_less_tpu_if = results_less_tpu_if['TimeMS'].max()\n",
    "max_1opp = results_1opp['TimeMS'].max()\n",
    "max_2opp = results_2opp['TimeMS'].max()\n",
    "max_3opp = results_3opp['TimeMS'].max()\n",
    "max_4opp = results_4opp['TimeMS'].max()\n",
    "max_attr = results_attr['TimeMS'].max()\n",
    "max_300 = results_300['TimeMS'].max()\n",
    "max_300_cpu = results_300_cpu['TimeMS'].max()\n",
    "max_1k = results_1k['TimeMS'].max()\n",
    "max_1k_cpu = results_1k_cpu['TimeMS'].max()\n",
    "max_full_300 = results_full_300['TimeMS'].max()\n",
    "max_full_300_cpu = results_full_300_cpu['TimeMS'].max()"
   ]
  },
  {
   "attachments": {},
   "cell_type": "markdown",
   "metadata": {},
   "source": [
    "### Microsecond Benchmarks"
   ]
  },
  {
   "cell_type": "code",
   "execution_count": 31,
   "metadata": {},
   "outputs": [],
   "source": [
    "results_1op = pd.read_csv('../benchmarks/random_forest/mys/results_1op.csv')[1:]\n",
    "results_2op = pd.read_csv('../benchmarks/random_forest/mys/results_2op.csv')[1:]\n",
    "results_3op = pd.read_csv('../benchmarks/random_forest/mys/results_3op.csv')[1:]\n",
    "results_4op = pd.read_csv('../benchmarks/random_forest/mys/results_4op.csv')[1:]\n",
    "results_5op = pd.read_csv('../benchmarks/random_forest/mys/results_5op.csv')[1:]\n",
    "results_6op = pd.read_csv('../benchmarks/random_forest/mys/results_6op.csv')[1:]\n",
    "results_7op = pd.read_csv('../benchmarks/random_forest/mys/results_7op.csv')[1:]\n",
    "results_8op = pd.read_csv('../benchmarks/random_forest/mys/results_8op.csv')[1:]"
   ]
  },
  {
   "cell_type": "code",
   "execution_count": 32,
   "metadata": {},
   "outputs": [],
   "source": [
    "diff_2 = (results_2op['TimeMyS'] - results_1op['TimeMyS'])\n",
    "diff_3 = (results_3op['TimeMyS'] - results_2op['TimeMyS'])\n",
    "diff_4 = (results_4op['TimeMyS'] - results_3op['TimeMyS'])\n",
    "diff_5 = (results_5op['TimeMyS'] - results_4op['TimeMyS'])\n",
    "diff_6 = (results_6op['TimeMyS'] - results_5op['TimeMyS'])\n",
    "diff_7 = (results_7op['TimeMyS'] - results_6op['TimeMyS'])\n",
    "diff_8 = (results_8op['TimeMyS'] - results_7op['TimeMyS'])\n",
    "\n",
    "mean_2op  = diff_2.mean()\n",
    "mean_3op  = diff_3.mean()\n",
    "mean_4op  = diff_4.mean()\n",
    "mean_5op  = diff_5.mean()\n",
    "mean_6op  = diff_6.mean()\n",
    "mean_7op  = diff_7.mean()\n",
    "mean_8op  = diff_8.mean()\n",
    "\n",
    "min_2op   = diff_2.min()\n",
    "min_3op   = diff_3.min()\n",
    "min_4op   = diff_4.min()\n",
    "min_5op   = diff_5.min()\n",
    "min_6op   = diff_6.min()\n",
    "min_7op   = diff_7.min()\n",
    "min_8op   = diff_8.min()\n",
    "\n",
    "max_2op   = diff_2.max()\n",
    "max_3op   = diff_3.max()\n",
    "max_4op   = diff_4.max()\n",
    "max_5op   = diff_5.max()\n",
    "max_6op   = diff_6.max()\n",
    "max_7op   = diff_7.max()\n",
    "max_8op   = diff_8.max()"
   ]
  },
  {
   "attachments": {},
   "cell_type": "markdown",
   "metadata": {},
   "source": [
    "attr means, that all the relevant tensors are stored as model attributes"
   ]
  },
  {
   "cell_type": "code",
   "execution_count": 40,
   "metadata": {},
   "outputs": [
    {
     "name": "stdout",
     "output_type": "stream",
     "text": [
      "Results in MS\n",
      ">--------< Mean >--------< Min >--------< Max >\n",
      "CPU:\t 0.03ms\t\t 0.03ms\t\t 0.05ms\n",
      "Both:\t 1.04ms\t\t 0.72ms\t\t 2.56ms\n",
      "TPU:\t 0.53ms\t\t 0.31ms\t\t 1.77ms\n",
      "opp1:\t 0.52ms\t\t 0.29ms\t\t 1.24ms\n",
      "opp2:\t 0.47ms\t\t 0.28ms\t\t 1.38ms\n",
      "opp3:\t 0.53ms\t\t 0.28ms\t\t 1.30ms\n",
      "opp4:\t 0.53ms\t\t 0.29ms\t\t 1.06ms\n",
      "attr:\t 0.46ms\t\t 0.33ms\t\t 1.08ms\n",
      "300_t:\t 1.10ms\t\t 0.63ms\t\t 2.09ms\n",
      "300_c:\t 0.09ms\t\t 0.08ms\t\t 0.13ms\n",
      "1k_t:\t 1.99ms\t\t 1.34ms\t\t 2.81ms\n",
      "1k_c:\t 0.20ms\t\t 0.19ms\t\t 0.23ms\n",
      "f300:\t 1.44ms\t\t 1.07ms\t\t 3.06ms\n",
      "f300_c:\t 0.19ms\t\t 0.18ms\t\t 0.34ms\n",
      "\n",
      "Estimated Runtime per Opp in Mikroseconds\n",
      ">--------< Mean >--------< Min >--------< Max >\n",
      "opp1:\t NA mys\t\t NA mys\t\t NA mys\n",
      "opp2:\t-180.07mys\t-848.76mys\t 292.20mys\n",
      "opp3:\t 88.11mys\t-351.36mys\t 1217.04mys\n",
      "opp4:\t 52.88mys\t-960.36mys\t 1004.04mys\n",
      "opp5:\t 29.59mys\t-931.32mys\t 762.60mys\n",
      "opp6:\t-36.42mys\t-837.84mys\t 565.32mys\n",
      "opp7:\t-28.69mys\t-656.76mys\t 753.96mys\n",
      "opp8:\t-1.91mys\t-636.36mys\t 480.48mys\n"
     ]
    }
   ],
   "source": [
    "print('Results in MS')\n",
    "print('>--------< Mean >--------< Min >--------< Max >')\n",
    "# the full model with batch size 1\n",
    "print(f'CPU:\\t{mean_cpu : .2f}ms\\t\\t{min_cpu : .2f}ms\\t\\t{max_cpu : .2f}ms')\n",
    "print(f'Both:\\t{mean_tpu : .2f}ms\\t\\t{min_tpu : .2f}ms\\t\\t{max_tpu : .2f}ms')\n",
    "# the tpu compatible model with batch size 1\n",
    "print(f'TPU:\\t{mean_less_tpu_if : .2f}ms\\t\\t{min_less_tpu_if : .2f}ms\\t\\t{max_less_tpu_if : .2f}ms')\n",
    "# the single opps with batch size 1\n",
    "print(f'opp1:\\t{mean_1opp : .2f}ms\\t\\t{min_1opp : .2f}ms\\t\\t{max_1opp : .2f}ms')\n",
    "print(f'opp2:\\t{mean_2opp : .2f}ms\\t\\t{min_2opp : .2f}ms\\t\\t{max_2opp : .2f}ms')\n",
    "print(f'opp3:\\t{mean_3opp : .2f}ms\\t\\t{min_3opp : .2f}ms\\t\\t{max_3opp : .2f}ms')\n",
    "print(f'opp4:\\t{mean_4opp : .2f}ms\\t\\t{min_4opp : .2f}ms\\t\\t{max_4opp : .2f}ms')\n",
    "print(f'attr:\\t{mean_attr : .2f}ms\\t\\t{min_attr : .2f}ms\\t\\t{max_attr : .2f}ms')\n",
    "# the tpu compatible model with batch size 300\n",
    "print(f'300_t:\\t{mean_300 : .2f}ms\\t\\t{min_300 : .2f}ms\\t\\t{max_300 : .2f}ms')\n",
    "print(f'300_c:\\t{mean_300_cpu : .2f}ms\\t\\t{min_300_cpu : .2f}ms\\t\\t{max_300_cpu : .2f}ms')\n",
    "# the tpu compatible model with batch size 1000\n",
    "print(f'1k_t:\\t{mean_1k : .2f}ms\\t\\t{min_1k : .2f}ms\\t\\t{max_1k : .2f}ms')\n",
    "print(f'1k_c:\\t{mean_1k_cpu : .2f}ms\\t\\t{min_1k_cpu : .2f}ms\\t\\t{max_1k_cpu : .2f}ms')\n",
    "# f300 is the full model with batch size 300\n",
    "print(f'f300:\\t{mean_full_300 : .2f}ms\\t\\t{min_full_300 : .2f}ms\\t\\t{max_full_300 : .2f}ms')\n",
    "print(f'f300_c:\\t{mean_full_300_cpu : .2f}ms\\t\\t{min_full_300_cpu : .2f}ms\\t\\t{max_full_300_cpu : .2f}ms')\n",
    "print(f'\\nEstimated Runtime per Opp in Mikroseconds')\n",
    "print('>--------< Mean >--------< Min >--------< Max >')\n",
    "print(f'opp1:\\t NA mys\\t\\t NA mys\\t\\t NA mys')\n",
    "print(f'opp2:\\t{mean_2op : .2f}mys\\t{min_2op : .2f}mys\\t{max_2op : .2f}mys')\n",
    "print(f'opp3:\\t{mean_3op : .2f}mys\\t{min_3op : .2f}mys\\t{max_3op : .2f}mys')\n",
    "print(f'opp4:\\t{mean_4op : .2f}mys\\t{min_4op : .2f}mys\\t{max_4op : .2f}mys')\n",
    "print(f'opp5:\\t{mean_5op : .2f}mys\\t{min_5op : .2f}mys\\t{max_5op : .2f}mys')\n",
    "print(f'opp6:\\t{mean_6op : .2f}mys\\t{min_6op : .2f}mys\\t{max_6op : .2f}mys')\n",
    "print(f'opp7:\\t{mean_7op : .2f}mys\\t{min_7op : .2f}mys\\t{max_7op : .2f}mys')\n",
    "print(f'opp8:\\t{mean_8op : .2f}mys\\t{min_8op : .2f}mys\\t{max_8op : .2f}mys')"
   ]
  }
 ],
 "metadata": {
  "kernelspec": {
   "display_name": "BA2",
   "language": "python",
   "name": "python3"
  },
  "language_info": {
   "codemirror_mode": {
    "name": "ipython",
    "version": 3
   },
   "file_extension": ".py",
   "mimetype": "text/x-python",
   "name": "python",
   "nbconvert_exporter": "python",
   "pygments_lexer": "ipython3",
   "version": "3.8.16"
  },
  "orig_nbformat": 4,
  "vscode": {
   "interpreter": {
    "hash": "d5b96343b31861d80b9d3de750e5a5e11a0f674dbcb91b0b966fee3e7b7f3d0b"
   }
  }
 },
 "nbformat": 4,
 "nbformat_minor": 2
}
