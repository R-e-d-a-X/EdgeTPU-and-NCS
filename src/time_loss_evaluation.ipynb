{
 "cells": [
  {
   "cell_type": "code",
   "execution_count": 1,
   "metadata": {},
   "outputs": [],
   "source": [
    "import pandas as pd\n",
    "import numpy as np\n",
    "import matplotlib.pyplot as plt  "
   ]
  },
  {
   "cell_type": "code",
   "execution_count": 2,
   "metadata": {},
   "outputs": [],
   "source": [
    "results_cpu = pd.read_csv('../benchmarks/random_forest/results11_cpu.csv')[1:]\n",
    "results_tpu = pd.read_csv('../benchmarks/random_forest/results11_edgetpu.csv')[1:]\n",
    "\n",
    "results_less_tpu_if = pd.read_csv('../benchmarks/random_forest/results11_less_tpu.csv')[1:]\n",
    "\n",
    "results_1opp = pd.read_csv('../benchmarks/random_forest/results_1opp.csv')[1:]\n",
    "results_2opp = pd.read_csv('../benchmarks/random_forest/results_2opp.csv')[1:]\n",
    "results_3opp = pd.read_csv('../benchmarks/random_forest/results_3opp.csv')[1:]\n",
    "results_4opp = pd.read_csv('../benchmarks/random_forest/results_4opp.csv')[1:]"
   ]
  },
  {
   "cell_type": "code",
   "execution_count": 5,
   "metadata": {},
   "outputs": [],
   "source": [
    "mean_cpu = results_cpu['TimeMS'].mean()\n",
    "mean_tpu = results_tpu['TimeMS'].mean()\n",
    "\n",
    "mean_less_tpu_if = results_less_tpu_if['TimeMS'].mean()\n",
    "\n",
    "mean_1opp = results_1opp['TimeMS'].mean()\n",
    "mean_2opp = results_2opp['TimeMS'].mean()\n",
    "mean_3opp = results_3opp['TimeMS'].mean()\n",
    "mean_4opp = results_4opp['TimeMS'].mean()"
   ]
  },
  {
   "cell_type": "code",
   "execution_count": 7,
   "metadata": {},
   "outputs": [
    {
     "name": "stdout",
     "output_type": "stream",
     "text": [
      "Mean CPU:\t\t 0.03ms\n",
      "Mean TPU:\t\t 1.04ms\n",
      "~ Time for tpu opps:\t 0.53ms\n",
      "Mean one opp:\t\t 0.52ms\n",
      "Mean two opp:\t\t 0.47ms\n",
      "Mean three opp:\t\t 0.53ms\n",
      "Mean four opp:\t\t 0.53ms\n"
     ]
    }
   ],
   "source": [
    "print(f'Mean CPU:\\t\\t{mean_cpu : .2f}ms\\nMean TPU:\\t\\t{mean_tpu : .2f}ms')\n",
    "print(f'~ Time for tpu opps:\\t{mean_less_tpu_if : .2f}ms')\n",
    "print(f'Mean one opp:\\t\\t{mean_1opp : .2f}ms')\n",
    "print(f'Mean two opp:\\t\\t{mean_2opp : .2f}ms')\n",
    "print(f'Mean three opp:\\t\\t{mean_3opp : .2f}ms')\n",
    "print(f'Mean four opp:\\t\\t{mean_4opp : .2f}ms')"
   ]
  },
  {
   "attachments": {},
   "cell_type": "markdown",
   "metadata": {},
   "source": [
    "### Ergebnis\n",
    "Die volle Inferenz auf der CPU dauert $0.03$ ms. <br>\n",
    "TPU mit If-Abfolge benötigt $1.04$ ms. <br>\n",
    "Das Entfernen der $8$ CPU Operationen ermöglicht das volle Mappen auf die Edge TPU. <br> \n",
    "Die $8$ Operationen auf der Edge TPU benötigen $0.53$ ms. <br> \n",
    "Also benötigt die Kommunikation zwischen TPU und CPU in etwa $0.51$ ms."
   ]
  }
 ],
 "metadata": {
  "kernelspec": {
   "display_name": "BA2",
   "language": "python",
   "name": "python3"
  },
  "language_info": {
   "codemirror_mode": {
    "name": "ipython",
    "version": 3
   },
   "file_extension": ".py",
   "mimetype": "text/x-python",
   "name": "python",
   "nbconvert_exporter": "python",
   "pygments_lexer": "ipython3",
   "version": "3.8.16"
  },
  "orig_nbformat": 4,
  "vscode": {
   "interpreter": {
    "hash": "d5b96343b31861d80b9d3de750e5a5e11a0f674dbcb91b0b966fee3e7b7f3d0b"
   }
  }
 },
 "nbformat": 4,
 "nbformat_minor": 2
}
