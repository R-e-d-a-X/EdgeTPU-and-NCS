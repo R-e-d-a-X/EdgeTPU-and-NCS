{
 "cells": [
  {
   "cell_type": "code",
   "execution_count": 32,
   "metadata": {},
   "outputs": [],
   "source": [
    "import tensorflow as tf\n",
    "import numpy as np\n",
    "import matplotlib.pyplot as plt\n",
    "from PIL import Image\n",
    "import time"
   ]
  },
  {
   "cell_type": "code",
   "execution_count": 113,
   "metadata": {},
   "outputs": [],
   "source": [
    "MODEL_PATH = '../../saved_models/edgetpu/inception/inception_v3/inception_v3_299_quant.tflite'\n",
    "COUNT = 101 \n",
    "HEIGHT = WIDTH = 224"
   ]
  },
  {
   "cell_type": "code",
   "execution_count": 114,
   "metadata": {},
   "outputs": [
    {
     "name": "stderr",
     "output_type": "stream",
     "text": [
      "/tmp/ipykernel_17933/1547956636.py:5: DeprecationWarning: ANTIALIAS is deprecated and will be removed in Pillow 10 (2023-07-01). Use Resampling.LANCZOS instead.\n",
      "  img = img.resize((HEIGHT, WIDTH), Image.ANTIALIAS)\n"
     ]
    }
   ],
   "source": [
    "interpreter = tf.lite.Interpreter(MODEL_PATH)\n",
    "interpreter.allocate_tensors()\n",
    "\n",
    "img = Image.open('../../saved_models/edgetpu/parrot.jpg')\n",
    "img = img.resize((HEIGHT, WIDTH), Image.ANTIALIAS)"
   ]
  },
  {
   "cell_type": "code",
   "execution_count": 115,
   "metadata": {},
   "outputs": [
    {
     "data": {
      "text/plain": [
       "7"
      ]
     },
     "execution_count": 115,
     "metadata": {},
     "output_type": "execute_result"
    }
   ],
   "source": [
    "f = open('../../benchmarks/edgetpu/inception/results_cpu_inception_v3.csv', 'w')\n",
    "f.write(\"TimeMS\\n\")"
   ]
  },
  {
   "cell_type": "code",
   "execution_count": 116,
   "metadata": {},
   "outputs": [],
   "source": [
    "#img = tf.cast(np.array(img), dtype=tf.float32)"
   ]
  },
  {
   "cell_type": "code",
   "execution_count": 117,
   "metadata": {},
   "outputs": [],
   "source": [
    "output = interpreter.get_output_details()[0]  \n",
    "input = interpreter.get_input_details()[0]  \n",
    "    \n",
    "img = np.array(img).reshape(1, HEIGHT, WIDTH, 3)\n",
    "interpreter.set_tensor(input['index'], img)"
   ]
  },
  {
   "cell_type": "code",
   "execution_count": 118,
   "metadata": {},
   "outputs": [
    {
     "name": "stdout",
     "output_type": "stream",
     "text": [
      "Time: 191.87ms\n",
      "Time: 180.13ms\n",
      "Time: 180.71ms\n",
      "Time: 183.33ms\n",
      "Time: 185.16ms\n",
      "Time: 189.16ms\n",
      "Time: 197.09ms\n",
      "Time: 179.06ms\n",
      "Time: 183.81ms\n",
      "Time: 182.18ms\n",
      "Time: 179.10ms\n",
      "Time: 177.99ms\n",
      "Time: 178.34ms\n",
      "Time: 177.78ms\n",
      "Time: 180.48ms\n",
      "Time: 177.14ms\n",
      "Time: 186.47ms\n",
      "Time: 179.13ms\n",
      "Time: 179.14ms\n",
      "Time: 178.12ms\n",
      "Time: 179.11ms\n",
      "Time: 179.21ms\n",
      "Time: 178.80ms\n",
      "Time: 177.27ms\n",
      "Time: 178.75ms\n",
      "Time: 178.55ms\n",
      "Time: 178.53ms\n",
      "Time: 177.12ms\n",
      "Time: 178.45ms\n",
      "Time: 177.99ms\n",
      "Time: 181.31ms\n",
      "Time: 182.91ms\n",
      "Time: 177.46ms\n",
      "Time: 187.25ms\n",
      "Time: 184.76ms\n",
      "Time: 182.59ms\n",
      "Time: 182.37ms\n",
      "Time: 181.49ms\n",
      "Time: 181.47ms\n",
      "Time: 179.15ms\n",
      "Time: 179.81ms\n",
      "Time: 185.35ms\n",
      "Time: 181.48ms\n",
      "Time: 179.29ms\n",
      "Time: 183.78ms\n",
      "Time: 179.83ms\n",
      "Time: 180.48ms\n",
      "Time: 179.06ms\n",
      "Time: 178.86ms\n",
      "Time: 177.80ms\n",
      "Time: 177.88ms\n",
      "Time: 176.95ms\n",
      "Time: 180.52ms\n",
      "Time: 177.82ms\n",
      "Time: 178.03ms\n",
      "Time: 177.32ms\n",
      "Time: 179.02ms\n",
      "Time: 178.18ms\n",
      "Time: 178.57ms\n",
      "Time: 179.40ms\n",
      "Time: 178.44ms\n",
      "Time: 179.28ms\n",
      "Time: 178.32ms\n",
      "Time: 176.06ms\n",
      "Time: 178.69ms\n",
      "Time: 194.61ms\n",
      "Time: 181.39ms\n",
      "Time: 181.35ms\n",
      "Time: 179.58ms\n",
      "Time: 179.11ms\n",
      "Time: 182.87ms\n",
      "Time: 182.16ms\n",
      "Time: 179.73ms\n",
      "Time: 179.64ms\n",
      "Time: 178.57ms\n",
      "Time: 184.80ms\n",
      "Time: 180.86ms\n",
      "Time: 179.07ms\n",
      "Time: 179.65ms\n",
      "Time: 178.16ms\n",
      "Time: 180.82ms\n",
      "Time: 184.44ms\n",
      "Time: 181.55ms\n",
      "Time: 180.59ms\n",
      "Time: 180.21ms\n",
      "Time: 178.33ms\n",
      "Time: 184.91ms\n",
      "Time: 180.80ms\n",
      "Time: 185.58ms\n",
      "Time: 182.36ms\n",
      "Time: 179.33ms\n",
      "Time: 179.38ms\n",
      "Time: 186.75ms\n",
      "Time: 180.87ms\n",
      "Time: 181.50ms\n",
      "Time: 179.79ms\n",
      "Time: 184.43ms\n",
      "Time: 187.31ms\n",
      "Time: 183.47ms\n",
      "Time: 184.16ms\n",
      "Time: 182.29ms\n"
     ]
    }
   ],
   "source": [
    "for _ in range(COUNT):\n",
    "    with tf.device('/CPU:0'):\n",
    "        start = time.perf_counter()\n",
    "        interpreter.invoke()\n",
    "        inf_time_s = time.perf_counter() - start\n",
    "        inf_time_ms = 1000 * inf_time_s\n",
    "        f.write(f'{inf_time_ms:.2f}\\n')\n",
    "        res = interpreter.get_tensor(output['index'])\n",
    "        print(f'Time: {inf_time_ms:.2f}ms')\n",
    "\n",
    "f.close()\n"
   ]
  },
  {
   "cell_type": "code",
   "execution_count": 119,
   "metadata": {},
   "outputs": [
    {
     "data": {
      "text/plain": [
       "\"\\nwith tf.device('/GPU:0'):\\n    start = time.perf_counter()\\n    interpreter.invoke()\\n    inf_time_s = time.perf_counter() - start\\n    inf_time_ms = 1000 * inf_time_s\\n    res = interpreter.get_tensor(output['index'])\\n\\nprint(f'Inference Time: {inf_time_ms:.2f}ms')\\n\""
      ]
     },
     "execution_count": 119,
     "metadata": {},
     "output_type": "execute_result"
    }
   ],
   "source": [
    "'''\n",
    "with tf.device('/GPU:0'):\n",
    "    start = time.perf_counter()\n",
    "    interpreter.invoke()\n",
    "    inf_time_s = time.perf_counter() - start\n",
    "    inf_time_ms = 1000 * inf_time_s\n",
    "    res = interpreter.get_tensor(output['index'])\n",
    "\n",
    "print(f'Inference Time: {inf_time_ms:.2f}ms')\n",
    "'''"
   ]
  },
  {
   "attachments": {},
   "cell_type": "markdown",
   "metadata": {},
   "source": [
    "## CPU Benchmark\n",
    "Inferencetime for quantized model: ~180ms <br>\n",
    "Inferencetime for float model    : ~110ms"
   ]
  }
 ],
 "metadata": {
  "kernelspec": {
   "display_name": "BA",
   "language": "python",
   "name": "python3"
  },
  "language_info": {
   "codemirror_mode": {
    "name": "ipython",
    "version": 3
   },
   "file_extension": ".py",
   "mimetype": "text/x-python",
   "name": "python",
   "nbconvert_exporter": "python",
   "pygments_lexer": "ipython3",
   "version": "3.8.16"
  },
  "orig_nbformat": 4,
  "vscode": {
   "interpreter": {
    "hash": "1a3874d0328dae854489c702580b238cd5016a1a716ce25211943d1c5a2e363f"
   }
  }
 },
 "nbformat": 4,
 "nbformat_minor": 2
}
