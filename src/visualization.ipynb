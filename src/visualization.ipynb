{
 "cells": [
  {
   "cell_type": "code",
   "execution_count": 59,
   "metadata": {},
   "outputs": [],
   "source": [
    "import numpy as np\n",
    "import matplotlib.pyplot as plt\n",
    "import pandas as pd\n",
    "from mpl_toolkits.axes_grid1.inset_locator import zoomed_inset_axes \n",
    "from mpl_toolkits.axes_grid1.inset_locator import mark_inset"
   ]
  },
  {
   "cell_type": "code",
   "execution_count": 15,
   "metadata": {},
   "outputs": [],
   "source": [
    "# first inference gets ignored because it loads model into memory\n",
    "effnet_S = pd.read_csv('../benchmarks/efficientnet/results_effnet-S.csv')[1:]\n",
    "effnet_M = pd.read_csv('../benchmarks/efficientnet/results_effnet-M.csv')[1:]\n",
    "effnet_L = pd.read_csv('../benchmarks/efficientnet/results_effnet-L.csv')[1:]\n",
    "\n",
    "incept_v1 = pd.read_csv('../benchmarks/inception/results_inception_v1.csv')[1:]\n",
    "incept_v2 = pd.read_csv('../benchmarks/inception/results_inception_v2.csv')[1:]\n",
    "incept_v3 = pd.read_csv('../benchmarks/inception/results_inception_v3.csv')[1:]\n",
    "incept_v4 = pd.read_csv('../benchmarks/inception/results_inception_v4.csv')[1:]\n",
    "\n",
    "mobile_v1 = pd.read_csv('../benchmarks/mobilenet/results_mobilenet_v1.csv')[1:]\n",
    "mobile_v2 = pd.read_csv('../benchmarks/mobilenet/results_mobilenet_v2.csv')[1:]\n",
    "mobile_v3 = pd.read_csv('../benchmarks/mobilenet/results_mobilenet_v3.csv')[1:]\n",
    "\n",
    "resnet_50 = pd.read_csv('../benchmarks/resnet-50/results_resnet-50.csv')[1:]"
   ]
  },
  {
   "attachments": {},
   "cell_type": "markdown",
   "metadata": {},
   "source": [
    "### Mean inference times"
   ]
  },
  {
   "cell_type": "code",
   "execution_count": 16,
   "metadata": {},
   "outputs": [],
   "source": [
    "mean_effnet_s = effnet_S['TimeMS'].mean()\n",
    "mean_effnet_m = effnet_M['TimeMS'].mean()\n",
    "mean_effnet_l = effnet_L['TimeMS'].mean()\n",
    "\n",
    "mean_incept_v1 = incept_v1['TimeMS'].mean()\n",
    "mean_incept_v2 = incept_v2['TimeMS'].mean()\n",
    "mean_incept_v3 = incept_v3['TimeMS'].mean()\n",
    "mean_incept_v4 = incept_v4['TimeMS'].mean()\n",
    "\n",
    "mean_mobile_v1 = mobile_v1['TimeMS'].mean()\n",
    "mean_mobile_v2 = mobile_v2['TimeMS'].mean()\n",
    "mean_mobile_v3 = mobile_v3['TimeMS'].mean()\n",
    "\n",
    "mean_resnet_50 = resnet_50['TimeMS'].mean()"
   ]
  },
  {
   "cell_type": "code",
   "execution_count": 17,
   "metadata": {},
   "outputs": [
    {
     "name": "stdout",
     "output_type": "stream",
     "text": [
      "Efficientnet: \tS:  5.78ms   M:  10.06ms   L: 27.06ms\n",
      "Inception: \tV1:  5.48ms  V2:  18.72ms  V3: 53.78ms  V4: 103.15ms\n",
      "Mobilenet: \tV1:  3.36ms  V2:  3.75ms  V3: 3.90ms\n",
      "ResNet-50: \t 52.18ms\n"
     ]
    }
   ],
   "source": [
    "print(f'Efficientnet: \\tS: {mean_effnet_s : .2f}ms   M: {mean_effnet_m : .2f}ms   L:{mean_effnet_l : .2f}ms')\n",
    "print(f'Inception: \\tV1: {mean_incept_v1 : .2f}ms  V2: {mean_incept_v2 : .2f}ms  V3:{mean_incept_v3 : .2f}ms  V4:{mean_incept_v4 : .2f}ms')\n",
    "print(f'Mobilenet: \\tV1: {mean_mobile_v1 : .2f}ms  V2: {mean_mobile_v2 : .2f}ms  V3:{mean_mobile_v3 : .2f}ms')\n",
    "print(f'ResNet-50: \\t{mean_resnet_50 : .2f}ms')"
   ]
  },
  {
   "attachments": {},
   "cell_type": "markdown",
   "metadata": {},
   "source": [
    "Model name | Inputsize | Latency | Model size |\n",
    "|:---------|:--------:|:--------|:--------|\n",
    "|EfficientNet-EdgeTpu-S|224x224x3|5.78ms|6.8MB|\n",
    "|EfficientNet-EdgeTpu-M|240x240x3|10.06ms|8.7MB|\n",
    "|EfficientNet-EdgeTpu-L|300x300x3|27.06ms|13MB|\n",
    "|Inception V1|224x224x3|5.48ms|7.1MB|\n",
    "|Inception V2|224x224x3|18.72ms|13.0MB|\n",
    "|Inception V3|299x299x3|53.78ms|25.0MB|\n",
    "|Inception V4|299x299x3|103.15ms|43.0MB|\n",
    "|MobileNet V1|224x224x3|3.36ms|4.7MB|\n",
    "|MobileNet V2|224x224x3|3.75ms|4.3MB|\n",
    "|MobileNet V3|224x224x3|3.90ms|5.1MB|\n",
    "|ResNet-50|224x224x3|52.18ms|26.0MB|"
   ]
  },
  {
   "cell_type": "code",
   "execution_count": 47,
   "metadata": {},
   "outputs": [],
   "source": [
    "mean_inf_times = np.array([mean_effnet_s, \n",
    "                   mean_effnet_m, \n",
    "                   mean_effnet_l, \n",
    "                   mean_incept_v1,\n",
    "                   mean_incept_v2,\n",
    "                   mean_incept_v3,\n",
    "                   mean_incept_v4,\n",
    "                   mean_mobile_v1,\n",
    "                   mean_mobile_v2,\n",
    "                   mean_mobile_v3,\n",
    "                   mean_resnet_50])\n",
    "\n",
    "model_sizes = np.array([6.8, 8.7, 13.0, 7.1, 13.0, 25.0, 43.0, 4.7, 4.3, 5.1, 26.0])"
   ]
  },
  {
   "attachments": {},
   "cell_type": "markdown",
   "metadata": {},
   "source": [
    "# Edge Tpu\n",
    "### Plot of average inference time in ms vs. model size in MB "
   ]
  },
  {
   "cell_type": "code",
   "execution_count": 58,
   "metadata": {},
   "outputs": [
    {
     "data": {
      "text/plain": [
       "<matplotlib.legend.Legend at 0x7f7d6c46aa60>"
      ]
     },
     "execution_count": 58,
     "metadata": {},
     "output_type": "execute_result"
    },
    {
     "data": {
      "image/png": "[encoded data removed]",
      "text/plain": [
       "<Figure size 640x480 with 1 Axes>"
      ]
     },
     "metadata": {},
     "output_type": "display_data"
    }
   ],
   "source": [
    "fig, ax = plt.subplots()\n",
    "\n",
    "plt.xlabel('Modelsize mb')\n",
    "plt.ylabel('Latency ms')\n",
    "ax.set_axisbelow(True)\n",
    "ax.grid()\n",
    "ax.scatter(model_sizes[:3], mean_inf_times[:3], c='red', marker='s')\n",
    "ax.scatter(model_sizes[3:7], mean_inf_times[3:7], c='green')\n",
    "ax.scatter(model_sizes[7:10], mean_inf_times[7:10], c='blue', marker='^')\n",
    "ax.scatter(model_sizes[10], mean_inf_times[10], c='orange', marker='d')\n",
    "plt.legend(labels=['EfficientNet-EdgeTpu-S/M/L', 'Inception V1-V4', 'MobileNet V1-V3', 'ResNet-50'])\n",
    "\n",
    "# zoomin plot\n",
    "axins = zoomed_inset_axes(ax, 2, loc='lower right') # zoom = 2\n",
    "axins.plot(ts)\n",
    "axins.set_xlim(x1, x2)\n",
    "axins.set_ylim(y1, y2)\n",
    "plt.xticks(visible=False)\n",
    "plt.yticks(visible=False)\n",
    "mark_inset(ax, axins, loc1=2, loc2=4, fc=\"none\", ec=\"0.5\")"
   ]
  }
 ],
 "metadata": {
  "kernelspec": {
   "display_name": "Bachelorarbeit",
   "language": "python",
   "name": "python3"
  },
  "language_info": {
   "codemirror_mode": {
    "name": "ipython",
    "version": 3
   },
   "file_extension": ".py",
   "mimetype": "text/x-python",
   "name": "python",
   "nbconvert_exporter": "python",
   "pygments_lexer": "ipython3",
   "version": "3.8.15"
  },
  "orig_nbformat": 4,
  "vscode": {
   "interpreter": {
    "hash": "dcf7a5713a516aa2d3421acea07eb3b3e608abd40c4052e069e1a6582ee3f7b1"
   }
  }
 },
 "nbformat": 4,
 "nbformat_minor": 2
}
