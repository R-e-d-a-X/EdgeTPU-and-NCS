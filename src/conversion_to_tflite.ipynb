{
 "cells": [
  {
   "cell_type": "code",
   "execution_count": 16,
   "metadata": {},
   "outputs": [],
   "source": [
    "from hummingbird.ml import convert, load\n",
    "from sklearn.ensemble import RandomForestClassifier\n",
    "from sklearn.datasets import make_classification\n",
    "import numpy as np\n",
    "import tensorflow as tf\n",
    "import torch\n",
    "import onnx\n",
    "import onnxruntime"
   ]
  },
  {
   "cell_type": "code",
   "execution_count": 2,
   "metadata": {},
   "outputs": [],
   "source": [
    "forest = RandomForestClassifier(n_estimators=105)\n",
    "X, y = make_classification(n_samples=1000, n_features=8,\n",
    "                           n_informative=4, n_redundant=1,\n",
    "                           random_state=0, shuffle=True,\n",
    "                           n_classes=4)"
   ]
  },
  {
   "cell_type": "code",
   "execution_count": 4,
   "metadata": {},
   "outputs": [
    {
     "data": {
      "text/html": [
       "<style>#sk-container-id-1 {color: black;background-color: white;}#sk-container-id-1 pre{padding: 0;}#sk-container-id-1 div.sk-toggleable {background-color: white;}#sk-container-id-1 label.sk-toggleable__label {cursor: pointer;display: block;width: 100%;margin-bottom: 0;padding: 0.3em;box-sizing: border-box;text-align: center;}#sk-container-id-1 label.sk-toggleable__label-arrow:before {content: \"▸\";float: left;margin-right: 0.25em;color: #696969;}#sk-container-id-1 label.sk-toggleable__label-arrow:hover:before {color: black;}#sk-container-id-1 div.sk-estimator:hover label.sk-toggleable__label-arrow:before {color: black;}#sk-container-id-1 div.sk-toggleable__content {max-height: 0;max-width: 0;overflow: hidden;text-align: left;background-color: #f0f8ff;}#sk-container-id-1 div.sk-toggleable__content pre {margin: 0.2em;color: black;border-radius: 0.25em;background-color: #f0f8ff;}#sk-container-id-1 input.sk-toggleable__control:checked~div.sk-toggleable__content {max-height: 200px;max-width: 100%;overflow: auto;}#sk-container-id-1 input.sk-toggleable__control:checked~label.sk-toggleable__label-arrow:before {content: \"▾\";}#sk-container-id-1 div.sk-estimator input.sk-toggleable__control:checked~label.sk-toggleable__label {background-color: #d4ebff;}#sk-container-id-1 div.sk-label input.sk-toggleable__control:checked~label.sk-toggleable__label {background-color: #d4ebff;}#sk-container-id-1 input.sk-hidden--visually {border: 0;clip: rect(1px 1px 1px 1px);clip: rect(1px, 1px, 1px, 1px);height: 1px;margin: -1px;overflow: hidden;padding: 0;position: absolute;width: 1px;}#sk-container-id-1 div.sk-estimator {font-family: monospace;background-color: #f0f8ff;border: 1px dotted black;border-radius: 0.25em;box-sizing: border-box;margin-bottom: 0.5em;}#sk-container-id-1 div.sk-estimator:hover {background-color: #d4ebff;}#sk-container-id-1 div.sk-parallel-item::after {content: \"\";width: 100%;border-bottom: 1px solid gray;flex-grow: 1;}#sk-container-id-1 div.sk-label:hover label.sk-toggleable__label {background-color: #d4ebff;}#sk-container-id-1 div.sk-serial::before {content: \"\";position: absolute;border-left: 1px solid gray;box-sizing: border-box;top: 0;bottom: 0;left: 50%;z-index: 0;}#sk-container-id-1 div.sk-serial {display: flex;flex-direction: column;align-items: center;background-color: white;padding-right: 0.2em;padding-left: 0.2em;position: relative;}#sk-container-id-1 div.sk-item {position: relative;z-index: 1;}#sk-container-id-1 div.sk-parallel {display: flex;align-items: stretch;justify-content: center;background-color: white;position: relative;}#sk-container-id-1 div.sk-item::before, #sk-container-id-1 div.sk-parallel-item::before {content: \"\";position: absolute;border-left: 1px solid gray;box-sizing: border-box;top: 0;bottom: 0;left: 50%;z-index: -1;}#sk-container-id-1 div.sk-parallel-item {display: flex;flex-direction: column;z-index: 1;position: relative;background-color: white;}#sk-container-id-1 div.sk-parallel-item:first-child::after {align-self: flex-end;width: 50%;}#sk-container-id-1 div.sk-parallel-item:last-child::after {align-self: flex-start;width: 50%;}#sk-container-id-1 div.sk-parallel-item:only-child::after {width: 0;}#sk-container-id-1 div.sk-dashed-wrapped {border: 1px dashed gray;margin: 0 0.4em 0.5em 0.4em;box-sizing: border-box;padding-bottom: 0.4em;background-color: white;}#sk-container-id-1 div.sk-label label {font-family: monospace;font-weight: bold;display: inline-block;line-height: 1.2em;}#sk-container-id-1 div.sk-label-container {text-align: center;}#sk-container-id-1 div.sk-container {/* jupyter's `normalize.less` sets `[hidden] { display: none; }` but bootstrap.min.css set `[hidden] { display: none !important; }` so we also need the `!important` here to be able to override the default hidden behavior on the sphinx rendered scikit-learn.org. See: https://github.com/scikit-learn/scikit-learn/issues/21755 */display: inline-block !important;position: relative;}#sk-container-id-1 div.sk-text-repr-fallback {display: none;}</style><div id=\"sk-container-id-1\" class=\"sk-top-container\"><div class=\"sk-text-repr-fallback\"><pre>RandomForestClassifier(n_estimators=105)</pre><b>In a Jupyter environment, please rerun this cell to show the HTML representation or trust the notebook. <br />On GitHub, the HTML representation is unable to render, please try loading this page with nbviewer.org.</b></div><div class=\"sk-container\" hidden><div class=\"sk-item\"><div class=\"sk-estimator sk-toggleable\"><input class=\"sk-toggleable__control sk-hidden--visually\" id=\"sk-estimator-id-1\" type=\"checkbox\" checked><label for=\"sk-estimator-id-1\" class=\"sk-toggleable__label sk-toggleable__label-arrow\">RandomForestClassifier</label><div class=\"sk-toggleable__content\"><pre>RandomForestClassifier(n_estimators=105)</pre></div></div></div></div></div>"
      ],
      "text/plain": [
       "RandomForestClassifier(n_estimators=105)"
      ]
     },
     "execution_count": 4,
     "metadata": {},
     "output_type": "execute_result"
    }
   ],
   "source": [
    "forest.fit(X, y)"
   ]
  },
  {
   "attachments": {},
   "cell_type": "markdown",
   "metadata": {},
   "source": [
    "### Find in: Hummingbird/ml/operator_converters/_tree_implementations.py"
   ]
  },
  {
   "attachments": {},
   "cell_type": "markdown",
   "metadata": {},
   "source": [
    "### GEnericMatrixMultiplication"
   ]
  },
  {
   "cell_type": "code",
   "execution_count": 67,
   "metadata": {},
   "outputs": [],
   "source": [
    "model = convert(forest, 'torch', X, extra_config={\"tree_implementation\":\"gemm\"})"
   ]
  },
  {
   "cell_type": "code",
   "execution_count": 68,
   "metadata": {},
   "outputs": [],
   "source": [
    "torch_model = model.model"
   ]
  },
  {
   "cell_type": "code",
   "execution_count": 80,
   "metadata": {},
   "outputs": [
    {
     "name": "stdout",
     "output_type": "stream",
     "text": [
      "A: Parameter containing:\n",
      "tensor([[0., 0., 0.,  ..., 1., 0., 0.],\n",
      "        [0., 0., 1.,  ..., 0., 0., 0.],\n",
      "        [1., 0., 0.,  ..., 0., 0., 0.],\n",
      "        ...,\n",
      "        [0., 0., 0.,  ..., 0., 0., 0.],\n",
      "        [0., 0., 0.,  ..., 0., 0., 0.],\n",
      "        [0., 0., 0.,  ..., 0., 0., 0.]], requires_grad=True) shape: torch.Size([22680, 8])\n",
      "\n",
      "B: Parameter containing:\n",
      "tensor([[-0.2032],\n",
      "        [-0.0414],\n",
      "        [-1.2543],\n",
      "        ...,\n",
      "        [ 0.0000],\n",
      "        [ 0.0000],\n",
      "        [ 0.0000]], requires_grad=True) shape: torch.Size([22680, 1])\n",
      "\n",
      "C: Parameter containing:\n",
      "tensor([[[1., 1., 1.,  ..., 0., 0., 0.],\n",
      "         [1., 1., 1.,  ..., 0., 0., 0.],\n",
      "         [1., 1., 1.,  ..., 0., 0., 0.],\n",
      "         ...,\n",
      "         [0., 0., 0.,  ..., 0., 0., 0.],\n",
      "         [0., 0., 0.,  ..., 0., 0., 0.],\n",
      "         [0., 0., 0.,  ..., 0., 0., 0.]],\n",
      "\n",
      "        [[1., 1., 1.,  ..., 0., 0., 0.],\n",
      "         [1., 1., 1.,  ..., 0., 0., 0.],\n",
      "         [1., 1., 1.,  ..., 0., 0., 0.],\n",
      "         ...,\n",
      "         [0., 0., 0.,  ..., 0., 0., 0.],\n",
      "         [0., 0., 0.,  ..., 0., 0., 0.],\n",
      "         [0., 0., 0.,  ..., 0., 0., 0.]],\n",
      "\n",
      "        [[1., 1., 1.,  ..., 0., 0., 0.],\n",
      "         [1., 1., 1.,  ..., 0., 0., 0.],\n",
      "         [1., 1., 1.,  ..., 0., 0., 0.],\n",
      "         ...,\n",
      "         [0., 0., 0.,  ..., 0., 0., 0.],\n",
      "         [0., 0., 0.,  ..., 0., 0., 0.],\n",
      "         [0., 0., 0.,  ..., 0., 0., 0.]],\n",
      "\n",
      "        ...,\n",
      "\n",
      "        [[1., 1., 1.,  ..., 0., 0., 0.],\n",
      "         [1., 1., 1.,  ..., 0., 0., 0.],\n",
      "         [1., 1., 1.,  ..., 0., 0., 0.],\n",
      "         ...,\n",
      "         [0., 0., 0.,  ..., 0., 0., 0.],\n",
      "         [0., 0., 0.,  ..., 0., 0., 0.],\n",
      "         [0., 0., 0.,  ..., 0., 0., 0.]],\n",
      "\n",
      "        [[1., 1., 1.,  ..., 0., 0., 0.],\n",
      "         [1., 1., 1.,  ..., 0., 0., 0.],\n",
      "         [1., 1., 1.,  ..., 0., 0., 0.],\n",
      "         ...,\n",
      "         [0., 0., 0.,  ..., 0., 0., 0.],\n",
      "         [0., 0., 0.,  ..., 0., 0., 0.],\n",
      "         [0., 0., 0.,  ..., 0., 0., 0.]],\n",
      "\n",
      "        [[1., 1., 1.,  ..., 0., 0., 0.],\n",
      "         [1., 1., 1.,  ..., 0., 0., 0.],\n",
      "         [1., 1., 1.,  ..., 0., 0., 0.],\n",
      "         ...,\n",
      "         [0., 0., 0.,  ..., 0., 0., 0.],\n",
      "         [0., 0., 0.,  ..., 0., 0., 0.],\n",
      "         [0., 0., 0.,  ..., 0., 0., 0.]]], requires_grad=True) shape: torch.Size([105, 217, 216])\n",
      "\n",
      "D: Parameter containing:\n",
      "tensor([[5.],\n",
      "        [5.],\n",
      "        [4.],\n",
      "        ...,\n",
      "        [0.],\n",
      "        [0.],\n",
      "        [0.]], requires_grad=True) shape: torch.Size([22785, 1])\n",
      "\n",
      "E: Parameter containing:\n",
      "tensor([[[0.0000, 0.0000, 0.0095,  ..., 0.0000, 0.0000, 0.0000],\n",
      "         [0.0000, 0.0095, 0.0000,  ..., 0.0000, 0.0000, 0.0000],\n",
      "         [0.0000, 0.0000, 0.0000,  ..., 0.0000, 0.0000, 0.0000],\n",
      "         [0.0095, 0.0000, 0.0000,  ..., 0.0000, 0.0000, 0.0000]],\n",
      "\n",
      "        [[0.0000, 0.0000, 0.0000,  ..., 0.0000, 0.0000, 0.0000],\n",
      "         [0.0000, 0.0000, 0.0000,  ..., 0.0000, 0.0000, 0.0000],\n",
      "         [0.0095, 0.0095, 0.0000,  ..., 0.0000, 0.0000, 0.0000],\n",
      "         [0.0000, 0.0000, 0.0095,  ..., 0.0000, 0.0000, 0.0000]],\n",
      "\n",
      "        [[0.0095, 0.0000, 0.0000,  ..., 0.0000, 0.0000, 0.0000],\n",
      "         [0.0000, 0.0095, 0.0000,  ..., 0.0000, 0.0000, 0.0000],\n",
      "         [0.0000, 0.0000, 0.0095,  ..., 0.0000, 0.0000, 0.0000],\n",
      "         [0.0000, 0.0000, 0.0000,  ..., 0.0000, 0.0000, 0.0000]],\n",
      "\n",
      "        ...,\n",
      "\n",
      "        [[0.0000, 0.0000, 0.0000,  ..., 0.0000, 0.0000, 0.0000],\n",
      "         [0.0000, 0.0000, 0.0000,  ..., 0.0000, 0.0000, 0.0000],\n",
      "         [0.0000, 0.0095, 0.0000,  ..., 0.0000, 0.0000, 0.0000],\n",
      "         [0.0095, 0.0000, 0.0095,  ..., 0.0000, 0.0000, 0.0000]],\n",
      "\n",
      "        [[0.0000, 0.0095, 0.0000,  ..., 0.0000, 0.0000, 0.0000],\n",
      "         [0.0000, 0.0000, 0.0095,  ..., 0.0000, 0.0000, 0.0000],\n",
      "         [0.0095, 0.0000, 0.0000,  ..., 0.0000, 0.0000, 0.0000],\n",
      "         [0.0000, 0.0000, 0.0000,  ..., 0.0000, 0.0000, 0.0000]],\n",
      "\n",
      "        [[0.0000, 0.0095, 0.0000,  ..., 0.0000, 0.0000, 0.0000],\n",
      "         [0.0000, 0.0000, 0.0095,  ..., 0.0000, 0.0000, 0.0000],\n",
      "         [0.0095, 0.0000, 0.0000,  ..., 0.0000, 0.0000, 0.0000],\n",
      "         [0.0000, 0.0000, 0.0000,  ..., 0.0000, 0.0000, 0.0000]]],\n",
      "       requires_grad=True) shape: torch.Size([105, 4, 217])\n",
      "\n"
     ]
    }
   ],
   "source": [
    "with torch.no_grad():\n",
    "    for op in torch_model._operators:\n",
    "        print(f'A: {op.weight_1} shape: {op.weight_1.shape}\\n')\n",
    "        print(f'B: {op.bias_1} shape: {op.bias_1.shape}\\n')\n",
    "        print(f'C: {op.weight_2} shape: {op.weight_2.shape}\\n')\n",
    "        print(f'D: {op.bias_2} shape: {op.bias_2.shape}\\n')\n",
    "        print(f'E: {op.weight_3} shape: {op.weight_3.shape}\\n')"
   ]
  },
  {
   "attachments": {},
   "cell_type": "markdown",
   "metadata": {},
   "source": [
    "### TreeTraversal"
   ]
  },
  {
   "cell_type": "code",
   "execution_count": null,
   "metadata": {},
   "outputs": [],
   "source": [
    "model = convert(forest, 'torch', X)"
   ]
  },
  {
   "cell_type": "code",
   "execution_count": null,
   "metadata": {},
   "outputs": [],
   "source": [
    "torch_model = model.model"
   ]
  },
  {
   "cell_type": "code",
   "execution_count": 63,
   "metadata": {},
   "outputs": [
    {
     "name": "stdout",
     "output_type": "stream",
     "text": [
      "All attributes: \n",
      "8\n",
      "21\n",
      "105\n",
      "433\n",
      "lefts: Parameter containing:\n",
      "tensor([1, 2, 3,  ..., 0, 0, 0]) length: torch.Size([45465])\n",
      "\n",
      "rights: Parameter containing:\n",
      "tensor([136,  51,  10,  ...,   0,   0,   0]) length: torch.Size([45465])\n",
      "\n",
      "features: Parameter containing:\n",
      "tensor([5, 2, 0,  ..., 0, 0, 0]) length: torch.Size([45465])\n",
      "\n",
      "thresholds: Parameter containing:\n",
      "tensor([-0.2032, -0.0414, -1.2543,  ...,  0.0000,  0.0000,  0.0000],\n",
      "       requires_grad=True)\n",
      "\n",
      "values:  Parameter containing:\n",
      "tensor([[0.0024, 0.0025, 0.0022, 0.0024],\n",
      "        [0.0004, 0.0037, 0.0037, 0.0018],\n",
      "        [0.0005, 0.0007, 0.0079, 0.0004],\n",
      "        ...,\n",
      "        [0.0000, 0.0000, 0.0000, 0.0000],\n",
      "        [0.0000, 0.0000, 0.0000, 0.0000],\n",
      "        [0.0000, 0.0000, 0.0000, 0.0000]], requires_grad=True)\n",
      "\n",
      "nodes_offset: Parameter containing:\n",
      "tensor([[    0,   433,   866,  1299,  1732,  2165,  2598,  3031,  3464,  3897,\n",
      "          4330,  4763,  5196,  5629,  6062,  6495,  6928,  7361,  7794,  8227,\n",
      "          8660,  9093,  9526,  9959, 10392, 10825, 11258, 11691, 12124, 12557,\n",
      "         12990, 13423, 13856, 14289, 14722, 15155, 15588, 16021, 16454, 16887,\n",
      "         17320, 17753, 18186, 18619, 19052, 19485, 19918, 20351, 20784, 21217,\n",
      "         21650, 22083, 22516, 22949, 23382, 23815, 24248, 24681, 25114, 25547,\n",
      "         25980, 26413, 26846, 27279, 27712, 28145, 28578, 29011, 29444, 29877,\n",
      "         30310, 30743, 31176, 31609, 32042, 32475, 32908, 33341, 33774, 34207,\n",
      "         34640, 35073, 35506, 35939, 36372, 36805, 37238, 37671, 38104, 38537,\n",
      "         38970, 39403, 39836, 40269, 40702, 41135, 41568, 42001, 42434, 42867,\n",
      "         43300, 43733, 44166, 44599, 45032]])\n"
     ]
    }
   ],
   "source": [
    "with torch.no_grad():\n",
    "    for op in torch_model._operators:\n",
    "        print('All attributes: ')\n",
    "        print(op.n_features)\n",
    "        print(op.max_tree_depth)\n",
    "        print(op.num_trees)\n",
    "        print(op.num_nodes)\n",
    "        print(f'lefts: {op.lefts} length: {op.lefts.shape}\\n')\n",
    "        print(f'rights: {op.rights} length: {op.rights.shape}\\n')\n",
    "        print(f'features: {op.features} length: {op.features.shape}\\n')\n",
    "        print(f'thresholds: {op.thresholds}\\n')\n",
    "        print(f'values:  {op.values}\\n')\n",
    "        print(f'nodes_offset: {op.nodes_offset}')"
   ]
  },
  {
   "cell_type": "code",
   "execution_count": 56,
   "metadata": {},
   "outputs": [],
   "source": [
    "def forward(op, x):\n",
    "        indexes = op._expand_indexes(x.size()[0])\n",
    "\n",
    "        for _ in range(op.max_tree_depth):\n",
    "            tree_nodes = indexes\n",
    "            feature_nodes = torch.index_select(op.features, 0, tree_nodes).view(-1, op.num_trees)\n",
    "            feature_values = torch.gather(x, 1, feature_nodes)\n",
    "\n",
    "            thresholds = torch.index_select(op.thresholds, 0, indexes).view(-1, op.num_trees)\n",
    "            lefts = torch.index_select(op.lefts, 0, indexes).view(-1, op.num_trees)\n",
    "            rights = torch.index_select(op.rights, 0, indexes).view(-1, op.num_trees)\n",
    "\n",
    "            indexes = torch.where(op.decision_cond(feature_values, thresholds), lefts, rights).long()\n",
    "            indexes = indexes + op.nodes_offset\n",
    "            indexes = indexes.view(-1)\n",
    "\n",
    "        output = torch.index_select(op.values, 0, indexes).view(-1, op.num_trees, op.n_classes)\n",
    "\n",
    "        output = op.aggregation(output)\n",
    "\n",
    "        if op.regression:\n",
    "            return output\n",
    "\n",
    "        if op.anomaly_detection:\n",
    "            # Select the class (-1 if negative) and return the score.\n",
    "            return torch.where(output.view(-1) < 0, op.classes[0], op.classes[1]), output\n",
    "\n",
    "        if op.perform_class_select:\n",
    "            return torch.index_select(op.classes, 0, torch.argmax(output, dim=1)), output\n",
    "        else:\n",
    "            return torch.argmax(output, dim=1), "
   ]
  }
 ],
 "metadata": {
  "kernelspec": {
   "display_name": "BA",
   "language": "python",
   "name": "python3"
  },
  "language_info": {
   "codemirror_mode": {
    "name": "ipython",
    "version": 3
   },
   "file_extension": ".py",
   "mimetype": "text/x-python",
   "name": "python",
   "nbconvert_exporter": "python",
   "pygments_lexer": "ipython3",
   "version": "3.8.16 (default, Jan 17 2023, 23:13:24) \n[GCC 11.2.0]"
  },
  "orig_nbformat": 4,
  "vscode": {
   "interpreter": {
    "hash": "1a3874d0328dae854489c702580b238cd5016a1a716ce25211943d1c5a2e363f"
   }
  }
 },
 "nbformat": 4,
 "nbformat_minor": 2
}
