{
 "cells": [
  {
   "cell_type": "code",
   "execution_count": 19,
   "metadata": {},
   "outputs": [],
   "source": [
    "import pandas as pd\n",
    "import numpy as np\n",
    "import matplotlib.pyplot as plt  \n",
    "import os"
   ]
  },
  {
   "cell_type": "code",
   "execution_count": 20,
   "metadata": {},
   "outputs": [],
   "source": [
    "batch_sizes = [1, 64, 256]\n",
    "n_features = [2, 8, 16]\n",
    "n_trees = [1, 32, 128]\n",
    "max_depth = [1, 4, 16]"
   ]
  },
  {
   "cell_type": "code",
   "execution_count": 22,
   "metadata": {},
   "outputs": [
    {
     "name": "stdout",
     "output_type": "stream",
     "text": [
      ">-------------------------< TPU > ------------------------< CPU >--------<\n",
      "Version   \t| mean    min     max    \t|  mean    min     max\n",
      "-------------------------------------------------------------------------\n",
      "1_1_2_1 \t| 1.30ms  0.74ms  4.87ms\t|  0.03ms  0.03ms  0.08ms\n",
      "1_4_2_1 \t| 1.19ms  0.79ms  3.42ms\t|  0.04ms  0.03ms  0.07ms\n",
      "1_16_2_1 \t| 1.07ms  0.75ms  2.25ms\t|  0.06ms  0.05ms  0.11ms\n",
      "32_1_2_1 \t| 5.59ms  4.58ms  7.56ms\t|  0.20ms  0.19ms  0.27ms\n",
      "32_4_2_1 \t| 5.73ms  4.42ms  8.41ms\t|  0.33ms  0.29ms  0.69ms\n",
      "32_16_2_1 \t| 6.76ms  5.19ms  8.39ms\t|  1.16ms  1.10ms  1.43ms\n",
      "128_1_2_1 \t| 98.17ms  89.72ms  105.77ms\t|  0.82ms  0.76ms  1.04ms\n",
      "128_4_2_1 \t| 97.33ms  88.73ms  108.05ms\t|  1.32ms  1.26ms  1.46ms\n",
      "128_16_2_1 \t| 109.64ms  96.88ms  117.00ms\t|  4.65ms  4.59ms  4.96ms\n",
      "1_1_8_1 \t| 1.12ms  0.73ms  2.18ms\t|  0.03ms  0.03ms  0.04ms\n",
      "1_4_8_1 \t| 1.09ms  0.79ms  2.16ms\t|  0.04ms  0.04ms  0.04ms\n",
      "1_16_8_1 \t| 1.11ms  0.73ms  3.06ms\t|  0.14ms  0.13ms  0.16ms\n",
      "32_1_8_1 \t| 5.23ms  4.22ms  7.21ms\t|  0.21ms  0.20ms  0.39ms\n",
      "32_4_8_1 \t| 4.52ms  4.26ms  6.97ms\t|  0.31ms  0.30ms  0.36ms\n",
      "32_16_8_1 \t| 29.70ms  25.04ms  33.79ms\t|  4.82ms  4.77ms  5.22ms\n",
      "128_1_8_1 \t| 94.45ms  86.70ms  103.99ms\t|  0.81ms  0.78ms  1.03ms\n",
      "128_4_8_1 \t| 95.22ms  87.19ms  104.60ms\t|  1.29ms  1.25ms  1.49ms\n",
      "128_16_8_1 \t| 185.26ms  176.00ms  192.53ms\t|  18.50ms  18.36ms  18.81ms\n",
      "1_1_16_1 \t| 1.09ms  0.73ms  2.44ms\t|  0.04ms  0.03ms  0.05ms\n",
      "1_4_16_1 \t| 1.11ms  0.75ms  2.24ms\t|  0.04ms  0.04ms  0.06ms\n",
      "1_16_16_1 \t| 0.94ms  0.72ms  2.17ms\t|  0.14ms  0.14ms  0.25ms\n",
      "32_1_16_1 \t| 5.22ms  4.20ms  7.91ms\t|  0.21ms  0.20ms  0.26ms\n",
      "32_4_16_1 \t| 4.82ms  4.21ms  7.50ms\t|  0.31ms  0.30ms  0.50ms\n",
      "32_16_16_1 \t| 32.26ms  27.69ms  37.70ms\t|  4.72ms  4.64ms  4.86ms\n",
      "128_1_16_1 \t| 95.09ms  87.16ms  104.26ms\t|  0.82ms  0.79ms  0.89ms\n",
      "128_4_16_1 \t| 94.34ms  87.71ms  104.23ms\t|  1.30ms  1.26ms  1.38ms\n",
      "128_16_16_1 \t| 191.55ms  187.38ms  198.01ms\t|  19.84ms  19.70ms  20.30ms\n",
      "1_1_2_64 \t| 1.13ms  0.90ms  2.70ms\t|  0.07ms  0.07ms  0.09ms\n",
      "1_4_2_64 \t| 1.17ms  0.96ms  2.78ms\t|  0.16ms  0.16ms  0.18ms\n",
      "32_1_2_64 \t| 8.25ms  6.61ms  11.11ms\t|  1.02ms  0.97ms  1.11ms\n",
      "32_4_2_64 \t| 17.42ms  15.83ms  20.13ms\t|  4.75ms  4.71ms  4.84ms\n",
      "128_1_2_64 \t| 108.41ms  101.15ms  119.06ms\t|  4.03ms  3.97ms  4.20ms\n"
     ]
    },
    {
     "ename": "FileNotFoundError",
     "evalue": "[Errno 2] No such file or directory: '../benchmarks/random_forest/ms/final_tests/results_128_4_2_64_cpu.csv'",
     "output_type": "error",
     "traceback": [
      "\u001b[0;31m---------------------------------------------------------------------------\u001b[0m",
      "\u001b[0;31mFileNotFoundError\u001b[0m                         Traceback (most recent call last)",
      "Cell \u001b[0;32mIn[22], line 10\u001b[0m\n\u001b[1;32m      8\u001b[0m \u001b[39mif\u001b[39;00m os\u001b[39m.\u001b[39mpath\u001b[39m.\u001b[39mexists(\u001b[39mf\u001b[39m\u001b[39m'\u001b[39m\u001b[39m../benchmarks/random_forest/ms/final_tests/results_\u001b[39m\u001b[39m{\u001b[39;00mnt\u001b[39m}\u001b[39;00m\u001b[39m_\u001b[39m\u001b[39m{\u001b[39;00mmd\u001b[39m}\u001b[39;00m\u001b[39m_\u001b[39m\u001b[39m{\u001b[39;00mnf\u001b[39m}\u001b[39;00m\u001b[39m_\u001b[39m\u001b[39m{\u001b[39;00mbs\u001b[39m}\u001b[39;00m\u001b[39m.csv\u001b[39m\u001b[39m'\u001b[39m):\n\u001b[1;32m      9\u001b[0m     res_tpu \u001b[39m=\u001b[39m pd\u001b[39m.\u001b[39mread_csv(\u001b[39mf\u001b[39m\u001b[39m'\u001b[39m\u001b[39m../benchmarks/random_forest/ms/final_tests/results_\u001b[39m\u001b[39m{\u001b[39;00mnt\u001b[39m}\u001b[39;00m\u001b[39m_\u001b[39m\u001b[39m{\u001b[39;00mmd\u001b[39m}\u001b[39;00m\u001b[39m_\u001b[39m\u001b[39m{\u001b[39;00mnf\u001b[39m}\u001b[39;00m\u001b[39m_\u001b[39m\u001b[39m{\u001b[39;00mbs\u001b[39m}\u001b[39;00m\u001b[39m.csv\u001b[39m\u001b[39m'\u001b[39m)\n\u001b[0;32m---> 10\u001b[0m     res_cpu \u001b[39m=\u001b[39m pd\u001b[39m.\u001b[39;49mread_csv(\u001b[39mf\u001b[39;49m\u001b[39m'\u001b[39;49m\u001b[39m../benchmarks/random_forest/ms/final_tests/results_\u001b[39;49m\u001b[39m{\u001b[39;49;00mnt\u001b[39m}\u001b[39;49;00m\u001b[39m_\u001b[39;49m\u001b[39m{\u001b[39;49;00mmd\u001b[39m}\u001b[39;49;00m\u001b[39m_\u001b[39;49m\u001b[39m{\u001b[39;49;00mnf\u001b[39m}\u001b[39;49;00m\u001b[39m_\u001b[39;49m\u001b[39m{\u001b[39;49;00mbs\u001b[39m}\u001b[39;49;00m\u001b[39m_cpu.csv\u001b[39;49m\u001b[39m'\u001b[39;49m)\n\u001b[1;32m     12\u001b[0m     mean_tpu \u001b[39m=\u001b[39m res_tpu[\u001b[39m'\u001b[39m\u001b[39mTimeMS\u001b[39m\u001b[39m'\u001b[39m][\u001b[39m1\u001b[39m:]\u001b[39m.\u001b[39mmean()\n\u001b[1;32m     13\u001b[0m     mean_cpu \u001b[39m=\u001b[39m res_cpu[\u001b[39m'\u001b[39m\u001b[39mTimeMS\u001b[39m\u001b[39m'\u001b[39m][\u001b[39m1\u001b[39m:]\u001b[39m.\u001b[39mmean()\n",
      "File \u001b[0;32m~/anaconda3/envs/BA2/lib/python3.8/site-packages/pandas/util/_decorators.py:211\u001b[0m, in \u001b[0;36mdeprecate_kwarg.<locals>._deprecate_kwarg.<locals>.wrapper\u001b[0;34m(*args, **kwargs)\u001b[0m\n\u001b[1;32m    209\u001b[0m     \u001b[39melse\u001b[39;00m:\n\u001b[1;32m    210\u001b[0m         kwargs[new_arg_name] \u001b[39m=\u001b[39m new_arg_value\n\u001b[0;32m--> 211\u001b[0m \u001b[39mreturn\u001b[39;00m func(\u001b[39m*\u001b[39;49margs, \u001b[39m*\u001b[39;49m\u001b[39m*\u001b[39;49mkwargs)\n",
      "File \u001b[0;32m~/anaconda3/envs/BA2/lib/python3.8/site-packages/pandas/util/_decorators.py:331\u001b[0m, in \u001b[0;36mdeprecate_nonkeyword_arguments.<locals>.decorate.<locals>.wrapper\u001b[0;34m(*args, **kwargs)\u001b[0m\n\u001b[1;32m    325\u001b[0m \u001b[39mif\u001b[39;00m \u001b[39mlen\u001b[39m(args) \u001b[39m>\u001b[39m num_allow_args:\n\u001b[1;32m    326\u001b[0m     warnings\u001b[39m.\u001b[39mwarn(\n\u001b[1;32m    327\u001b[0m         msg\u001b[39m.\u001b[39mformat(arguments\u001b[39m=\u001b[39m_format_argument_list(allow_args)),\n\u001b[1;32m    328\u001b[0m         \u001b[39mFutureWarning\u001b[39;00m,\n\u001b[1;32m    329\u001b[0m         stacklevel\u001b[39m=\u001b[39mfind_stack_level(),\n\u001b[1;32m    330\u001b[0m     )\n\u001b[0;32m--> 331\u001b[0m \u001b[39mreturn\u001b[39;00m func(\u001b[39m*\u001b[39;49margs, \u001b[39m*\u001b[39;49m\u001b[39m*\u001b[39;49mkwargs)\n",
      "File \u001b[0;32m~/anaconda3/envs/BA2/lib/python3.8/site-packages/pandas/io/parsers/readers.py:950\u001b[0m, in \u001b[0;36mread_csv\u001b[0;34m(filepath_or_buffer, sep, delimiter, header, names, index_col, usecols, squeeze, prefix, mangle_dupe_cols, dtype, engine, converters, true_values, false_values, skipinitialspace, skiprows, skipfooter, nrows, na_values, keep_default_na, na_filter, verbose, skip_blank_lines, parse_dates, infer_datetime_format, keep_date_col, date_parser, dayfirst, cache_dates, iterator, chunksize, compression, thousands, decimal, lineterminator, quotechar, quoting, doublequote, escapechar, comment, encoding, encoding_errors, dialect, error_bad_lines, warn_bad_lines, on_bad_lines, delim_whitespace, low_memory, memory_map, float_precision, storage_options)\u001b[0m\n\u001b[1;32m    935\u001b[0m kwds_defaults \u001b[39m=\u001b[39m _refine_defaults_read(\n\u001b[1;32m    936\u001b[0m     dialect,\n\u001b[1;32m    937\u001b[0m     delimiter,\n\u001b[0;32m   (...)\u001b[0m\n\u001b[1;32m    946\u001b[0m     defaults\u001b[39m=\u001b[39m{\u001b[39m\"\u001b[39m\u001b[39mdelimiter\u001b[39m\u001b[39m\"\u001b[39m: \u001b[39m\"\u001b[39m\u001b[39m,\u001b[39m\u001b[39m\"\u001b[39m},\n\u001b[1;32m    947\u001b[0m )\n\u001b[1;32m    948\u001b[0m kwds\u001b[39m.\u001b[39mupdate(kwds_defaults)\n\u001b[0;32m--> 950\u001b[0m \u001b[39mreturn\u001b[39;00m _read(filepath_or_buffer, kwds)\n",
      "File \u001b[0;32m~/anaconda3/envs/BA2/lib/python3.8/site-packages/pandas/io/parsers/readers.py:605\u001b[0m, in \u001b[0;36m_read\u001b[0;34m(filepath_or_buffer, kwds)\u001b[0m\n\u001b[1;32m    602\u001b[0m _validate_names(kwds\u001b[39m.\u001b[39mget(\u001b[39m\"\u001b[39m\u001b[39mnames\u001b[39m\u001b[39m\"\u001b[39m, \u001b[39mNone\u001b[39;00m))\n\u001b[1;32m    604\u001b[0m \u001b[39m# Create the parser.\u001b[39;00m\n\u001b[0;32m--> 605\u001b[0m parser \u001b[39m=\u001b[39m TextFileReader(filepath_or_buffer, \u001b[39m*\u001b[39;49m\u001b[39m*\u001b[39;49mkwds)\n\u001b[1;32m    607\u001b[0m \u001b[39mif\u001b[39;00m chunksize \u001b[39mor\u001b[39;00m iterator:\n\u001b[1;32m    608\u001b[0m     \u001b[39mreturn\u001b[39;00m parser\n",
      "File \u001b[0;32m~/anaconda3/envs/BA2/lib/python3.8/site-packages/pandas/io/parsers/readers.py:1442\u001b[0m, in \u001b[0;36mTextFileReader.__init__\u001b[0;34m(self, f, engine, **kwds)\u001b[0m\n\u001b[1;32m   1439\u001b[0m     \u001b[39mself\u001b[39m\u001b[39m.\u001b[39moptions[\u001b[39m\"\u001b[39m\u001b[39mhas_index_names\u001b[39m\u001b[39m\"\u001b[39m] \u001b[39m=\u001b[39m kwds[\u001b[39m\"\u001b[39m\u001b[39mhas_index_names\u001b[39m\u001b[39m\"\u001b[39m]\n\u001b[1;32m   1441\u001b[0m \u001b[39mself\u001b[39m\u001b[39m.\u001b[39mhandles: IOHandles \u001b[39m|\u001b[39m \u001b[39mNone\u001b[39;00m \u001b[39m=\u001b[39m \u001b[39mNone\u001b[39;00m\n\u001b[0;32m-> 1442\u001b[0m \u001b[39mself\u001b[39m\u001b[39m.\u001b[39m_engine \u001b[39m=\u001b[39m \u001b[39mself\u001b[39;49m\u001b[39m.\u001b[39;49m_make_engine(f, \u001b[39mself\u001b[39;49m\u001b[39m.\u001b[39;49mengine)\n",
      "File \u001b[0;32m~/anaconda3/envs/BA2/lib/python3.8/site-packages/pandas/io/parsers/readers.py:1735\u001b[0m, in \u001b[0;36mTextFileReader._make_engine\u001b[0;34m(self, f, engine)\u001b[0m\n\u001b[1;32m   1733\u001b[0m     \u001b[39mif\u001b[39;00m \u001b[39m\"\u001b[39m\u001b[39mb\u001b[39m\u001b[39m\"\u001b[39m \u001b[39mnot\u001b[39;00m \u001b[39min\u001b[39;00m mode:\n\u001b[1;32m   1734\u001b[0m         mode \u001b[39m+\u001b[39m\u001b[39m=\u001b[39m \u001b[39m\"\u001b[39m\u001b[39mb\u001b[39m\u001b[39m\"\u001b[39m\n\u001b[0;32m-> 1735\u001b[0m \u001b[39mself\u001b[39m\u001b[39m.\u001b[39mhandles \u001b[39m=\u001b[39m get_handle(\n\u001b[1;32m   1736\u001b[0m     f,\n\u001b[1;32m   1737\u001b[0m     mode,\n\u001b[1;32m   1738\u001b[0m     encoding\u001b[39m=\u001b[39;49m\u001b[39mself\u001b[39;49m\u001b[39m.\u001b[39;49moptions\u001b[39m.\u001b[39;49mget(\u001b[39m\"\u001b[39;49m\u001b[39mencoding\u001b[39;49m\u001b[39m\"\u001b[39;49m, \u001b[39mNone\u001b[39;49;00m),\n\u001b[1;32m   1739\u001b[0m     compression\u001b[39m=\u001b[39;49m\u001b[39mself\u001b[39;49m\u001b[39m.\u001b[39;49moptions\u001b[39m.\u001b[39;49mget(\u001b[39m\"\u001b[39;49m\u001b[39mcompression\u001b[39;49m\u001b[39m\"\u001b[39;49m, \u001b[39mNone\u001b[39;49;00m),\n\u001b[1;32m   1740\u001b[0m     memory_map\u001b[39m=\u001b[39;49m\u001b[39mself\u001b[39;49m\u001b[39m.\u001b[39;49moptions\u001b[39m.\u001b[39;49mget(\u001b[39m\"\u001b[39;49m\u001b[39mmemory_map\u001b[39;49m\u001b[39m\"\u001b[39;49m, \u001b[39mFalse\u001b[39;49;00m),\n\u001b[1;32m   1741\u001b[0m     is_text\u001b[39m=\u001b[39;49mis_text,\n\u001b[1;32m   1742\u001b[0m     errors\u001b[39m=\u001b[39;49m\u001b[39mself\u001b[39;49m\u001b[39m.\u001b[39;49moptions\u001b[39m.\u001b[39;49mget(\u001b[39m\"\u001b[39;49m\u001b[39mencoding_errors\u001b[39;49m\u001b[39m\"\u001b[39;49m, \u001b[39m\"\u001b[39;49m\u001b[39mstrict\u001b[39;49m\u001b[39m\"\u001b[39;49m),\n\u001b[1;32m   1743\u001b[0m     storage_options\u001b[39m=\u001b[39;49m\u001b[39mself\u001b[39;49m\u001b[39m.\u001b[39;49moptions\u001b[39m.\u001b[39;49mget(\u001b[39m\"\u001b[39;49m\u001b[39mstorage_options\u001b[39;49m\u001b[39m\"\u001b[39;49m, \u001b[39mNone\u001b[39;49;00m),\n\u001b[1;32m   1744\u001b[0m )\n\u001b[1;32m   1745\u001b[0m \u001b[39massert\u001b[39;00m \u001b[39mself\u001b[39m\u001b[39m.\u001b[39mhandles \u001b[39mis\u001b[39;00m \u001b[39mnot\u001b[39;00m \u001b[39mNone\u001b[39;00m\n\u001b[1;32m   1746\u001b[0m f \u001b[39m=\u001b[39m \u001b[39mself\u001b[39m\u001b[39m.\u001b[39mhandles\u001b[39m.\u001b[39mhandle\n",
      "File \u001b[0;32m~/anaconda3/envs/BA2/lib/python3.8/site-packages/pandas/io/common.py:856\u001b[0m, in \u001b[0;36mget_handle\u001b[0;34m(path_or_buf, mode, encoding, compression, memory_map, is_text, errors, storage_options)\u001b[0m\n\u001b[1;32m    851\u001b[0m \u001b[39melif\u001b[39;00m \u001b[39misinstance\u001b[39m(handle, \u001b[39mstr\u001b[39m):\n\u001b[1;32m    852\u001b[0m     \u001b[39m# Check whether the filename is to be opened in binary mode.\u001b[39;00m\n\u001b[1;32m    853\u001b[0m     \u001b[39m# Binary mode does not support 'encoding' and 'newline'.\u001b[39;00m\n\u001b[1;32m    854\u001b[0m     \u001b[39mif\u001b[39;00m ioargs\u001b[39m.\u001b[39mencoding \u001b[39mand\u001b[39;00m \u001b[39m\"\u001b[39m\u001b[39mb\u001b[39m\u001b[39m\"\u001b[39m \u001b[39mnot\u001b[39;00m \u001b[39min\u001b[39;00m ioargs\u001b[39m.\u001b[39mmode:\n\u001b[1;32m    855\u001b[0m         \u001b[39m# Encoding\u001b[39;00m\n\u001b[0;32m--> 856\u001b[0m         handle \u001b[39m=\u001b[39m \u001b[39mopen\u001b[39;49m(\n\u001b[1;32m    857\u001b[0m             handle,\n\u001b[1;32m    858\u001b[0m             ioargs\u001b[39m.\u001b[39;49mmode,\n\u001b[1;32m    859\u001b[0m             encoding\u001b[39m=\u001b[39;49mioargs\u001b[39m.\u001b[39;49mencoding,\n\u001b[1;32m    860\u001b[0m             errors\u001b[39m=\u001b[39;49merrors,\n\u001b[1;32m    861\u001b[0m             newline\u001b[39m=\u001b[39;49m\u001b[39m\"\u001b[39;49m\u001b[39m\"\u001b[39;49m,\n\u001b[1;32m    862\u001b[0m         )\n\u001b[1;32m    863\u001b[0m     \u001b[39melse\u001b[39;00m:\n\u001b[1;32m    864\u001b[0m         \u001b[39m# Binary mode\u001b[39;00m\n\u001b[1;32m    865\u001b[0m         handle \u001b[39m=\u001b[39m \u001b[39mopen\u001b[39m(handle, ioargs\u001b[39m.\u001b[39mmode)\n",
      "\u001b[0;31mFileNotFoundError\u001b[0m: [Errno 2] No such file or directory: '../benchmarks/random_forest/ms/final_tests/results_128_4_2_64_cpu.csv'"
     ]
    }
   ],
   "source": [
    "print(f'>-------------------------< TPU > ------------------------< CPU >--------<')\n",
    "print(f'Version   \\t| mean    min     max    \\t|  mean    min     max')\n",
    "print(f'-------------------------------------------------------------------------')\n",
    "for bs in batch_sizes:\n",
    "    for nf in n_features:\n",
    "        for nt in n_trees:\n",
    "            for md in max_depth:\n",
    "                if (os.path.exists(f'../benchmarks/random_forest/ms/final_tests/results_{nt}_{md}_{nf}_{bs}.csv')\n",
    "                    and os.path.exists(f'../benchmarks/random_forest/ms/final_tests/results_{nt}_{md}_{nf}_{bs}_cpu.csv')):\n",
    "                    res_tpu = pd.read_csv(f'../benchmarks/random_forest/ms/final_tests/results_{nt}_{md}_{nf}_{bs}.csv')\n",
    "                    res_cpu = pd.read_csv(f'../benchmarks/random_forest/ms/final_tests/results_{nt}_{md}_{nf}_{bs}_cpu.csv')\n",
    "\n",
    "                    mean_tpu = res_tpu['TimeMS'][1:].mean()\n",
    "                    mean_cpu = res_cpu['TimeMS'][1:].mean()\n",
    "                    min_tpu = res_tpu['TimeMS'][1:].min()\n",
    "                    min_cpu = res_cpu['TimeMS'][1:].min()\n",
    "                    max_tpu = res_tpu['TimeMS'][1:].max()\n",
    "                    max_cpu = res_cpu['TimeMS'][1:].max()\n",
    "\n",
    "                    print(f'{nt}_{md}_{nf}_{bs} \\t|{mean_tpu : .2f}ms {min_tpu : .2f}ms {max_tpu : .2f}ms\\t| {mean_cpu : .2f}ms {min_cpu : .2f}ms {max_cpu : .2f}ms')"
   ]
  },
  {
   "cell_type": "code",
   "execution_count": null,
   "metadata": {},
   "outputs": [
    {
     "data": {
      "text/plain": [
       "True"
      ]
     },
     "execution_count": 17,
     "metadata": {},
     "output_type": "execute_result"
    }
   ],
   "source": [
    "os.path.exists(f'/home/tobi/Bachelorarbeit/EdgeTPU-and-NCS/benchmarks/random_forest/ms/final_tests/results_{128}_{16}_{16}_{1}_cpu.csv')"
   ]
  }
 ],
 "metadata": {
  "kernelspec": {
   "display_name": "BA2",
   "language": "python",
   "name": "python3"
  },
  "language_info": {
   "codemirror_mode": {
    "name": "ipython",
    "version": 3
   },
   "file_extension": ".py",
   "mimetype": "text/x-python",
   "name": "python",
   "nbconvert_exporter": "python",
   "pygments_lexer": "ipython3",
   "version": "3.8.16"
  },
  "orig_nbformat": 4
 },
 "nbformat": 4,
 "nbformat_minor": 2
}
